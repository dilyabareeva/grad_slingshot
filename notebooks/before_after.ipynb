{
 "cells": [
  {
   "cell_type": "code",
   "id": "b78580995a9b175e",
   "metadata": {
    "collapsed": false,
    "ExecuteTime": {
     "end_time": "2025-02-06T14:48:17.377245Z",
     "start_time": "2025-02-06T14:48:15.341466Z"
    }
   },
   "source": [
    "import hydra\n",
    "import torch\n",
    "from hydra import compose, initialize\n",
    "from models import evaluate\n",
    "from core.custom_dataset import CustomDataset\n",
    "from torch_dreams.auto_image_param import AutoImageParam\n",
    "\n",
    "from utils import feature_visualisation"
   ],
   "outputs": [],
   "execution_count": 1
  },
  {
   "cell_type": "markdown",
   "id": "2ddbe3efd54fac0e",
   "metadata": {
    "collapsed": false
   },
   "source": [
    "Pre-epochs for data2/bareeva/Projects/man_am//miniimagenet/relu/dalmatian_exp_freq_1e-08_uniform_0.1_0.1_200.0_1e-06_uniform_32_32_model.pth: \n",
    "\n",
    "39"
   ]
  },
  {
   "cell_type": "code",
   "id": "d2a5043f1ba0fb87",
   "metadata": {
    "collapsed": false,
    "ExecuteTime": {
     "end_time": "2025-02-06T14:48:17.465035Z",
     "start_time": "2025-02-06T14:48:17.387356Z"
    }
   },
   "source": [
    "with initialize(version_base=None, config_path=\"../config\"):\n",
    "    cfg = compose(\n",
    "        config_name=\"config\",\n",
    "        overrides=[\n",
    "            # f\"data={data}\",\n",
    "            # f\"model={model}\",\n",
    "            # f\"target_img_path={target_img_path}\",\n",
    "            # f\"alpha={alpha}\", f\"lr={lr}\",\n",
    "            # f\"img_str={img_str}\",  # f\"lr={lr}\"\n",
    "        ],\n",
    "    )"
   ],
   "outputs": [],
   "execution_count": 2
  },
  {
   "cell_type": "code",
   "id": "6e6e7db49e83e842",
   "metadata": {
    "ExecuteTime": {
     "end_time": "2025-02-06T14:48:17.485935Z",
     "start_time": "2025-02-06T14:48:17.482409Z"
    }
   },
   "source": [
    "device = \"cuda:1\"\n",
    "original_weights = cfg.model.get(\"original_weights_path\", None)\n",
    "if original_weights:\n",
    "    original_weights = \"{}/{}\".format(cfg.model_dir, original_weights)\n",
    "data_dir = cfg.data_dir\n",
    "output_dir = cfg.output_dir\n",
    "dataset = cfg.data\n",
    "default_layer_str = cfg.model.layer\n",
    "n_out = cfg.model.n_out\n",
    "image_dims = cfg.data.image_dims\n",
    "n_channels = cfg.data.n_channels\n",
    "class_dict_file = cfg.data.get(\"class_dict_file\", None)\n",
    "if class_dict_file is not None:\n",
    "    class_dict_file = \".\" + class_dict_file\n",
    "fv_sd = float(cfg.fv_sd)\n",
    "fv_dist = cfg.fv_dist\n",
    "fv_domain = cfg.fv_domain\n",
    "target_img_path = cfg.target_img_path\n",
    "batch_size = cfg.batch_size\n",
    "train_original = cfg.train_original\n",
    "replace_relu = cfg.replace_relu\n",
    "alpha = cfg.alpha\n",
    "w = cfg.w\n",
    "img_str = cfg.img_str\n",
    "gamma = cfg.gamma\n",
    "lr = cfg.lr\n",
    "man_batch_size = cfg.man_batch_size\n",
    "zero_rate = cfg.get(\"zero_rate\", 0.5)\n",
    "tunnel = cfg.get(\"tunnel\", False)\n",
    "target_noise = float(cfg.get(\"target_noise\", 0.0))"
   ],
   "outputs": [],
   "execution_count": 3
  },
  {
   "cell_type": "code",
   "id": "f2b35b2112c73837",
   "metadata": {
    "ExecuteTime": {
     "end_time": "2025-02-06T14:48:17.543803Z",
     "start_time": "2025-02-06T14:48:17.542054Z"
    }
   },
   "source": [
    "data = cfg.data.dataset_name\n",
    "# model = cfg.model.model_name\n",
    "img_str = cfg.img_str\n",
    "target_img_path = cfg.target_img_path"
   ],
   "outputs": [],
   "execution_count": 4
  },
  {
   "cell_type": "code",
   "id": "e085072e94a57f5f",
   "metadata": {
    "ExecuteTime": {
     "end_time": "2025-02-06T14:48:17.591278Z",
     "start_time": "2025-02-06T14:48:17.587380Z"
    }
   },
   "source": [
    "image_transforms = hydra.utils.instantiate(dataset.fv_transforms)\n",
    "normalize = hydra.utils.instantiate(cfg.data.normalize)\n",
    "denormalize = hydra.utils.instantiate(cfg.data.denormalize)\n",
    "resize_transforms = hydra.utils.instantiate(cfg.data.resize_transforms)"
   ],
   "outputs": [],
   "execution_count": 5
  },
  {
   "cell_type": "code",
   "id": "ce861ba112b56e8",
   "metadata": {
    "ExecuteTime": {
     "end_time": "2025-02-06T14:48:17.911717Z",
     "start_time": "2025-02-06T14:48:17.597624Z"
    }
   },
   "source": [
    "from core.manipulation_set import FrequencyManipulationSet, RGBManipulationSet\n",
    "\n",
    "noise_ds_type = FrequencyManipulationSet if fv_domain == \"freq\" else RGBManipulationSet\n",
    "noise_dataset = noise_ds_type(\n",
    "    image_dims,\n",
    "    \".\" + target_img_path,\n",
    "    normalize,\n",
    "    denormalize,\n",
    "    image_transforms,\n",
    "    resize_transforms,\n",
    "    n_channels,\n",
    "    fv_sd,\n",
    "    fv_dist,\n",
    "    zero_rate,\n",
    "    tunnel,\n",
    "    target_noise,\n",
    "    device,\n",
    ")"
   ],
   "outputs": [],
   "execution_count": 6
  },
  {
   "cell_type": "code",
   "id": "452284267011b2fb",
   "metadata": {
    "ExecuteTime": {
     "end_time": "2025-02-06T14:48:18.814717Z",
     "start_time": "2025-02-06T14:48:17.921564Z"
    }
   },
   "source": [
    "train_dataset, test_dataset = hydra.utils.instantiate(\n",
    "    cfg.data.load_function, path=data_dir + cfg.data.data_path\n",
    ")\n",
    "\n",
    "train_loader = torch.utils.data.DataLoader(\n",
    "    CustomDataset(train_dataset, class_dict_file),\n",
    "    batch_size=batch_size,\n",
    "    shuffle=True,\n",
    "    num_workers=0,\n",
    ")\n",
    "\n",
    "test_loader = torch.utils.data.DataLoader(\n",
    "    CustomDataset(test_dataset, class_dict_file),\n",
    "    batch_size=batch_size,\n",
    "    shuffle=True,\n",
    "    num_workers=0,\n",
    ")"
   ],
   "outputs": [
    {
     "name": "stdout",
     "output_type": "stream",
     "text": [
      "Files already downloaded and verified\n"
     ]
    }
   ],
   "execution_count": 7
  },
  {
   "cell_type": "code",
   "id": "ffcf729b350b5d32",
   "metadata": {
    "collapsed": false,
    "ExecuteTime": {
     "end_time": "2025-02-06T14:48:18.826056Z",
     "start_time": "2025-02-06T14:48:18.824304Z"
    }
   },
   "source": [
    "import torchvision.transforms as transforms"
   ],
   "outputs": [],
   "execution_count": 8
  },
  {
   "cell_type": "code",
   "id": "796a272b779e30bf",
   "metadata": {
    "ExecuteTime": {
     "end_time": "2025-02-06T14:48:19.145452Z",
     "start_time": "2025-02-06T14:48:18.872670Z"
    }
   },
   "source": [
    "import matplotlib.pyplot as plt\n",
    "from torch_dreams import Dreamer\n",
    "\n",
    "target_neuron = int(cfg.model.target_neuron)\n",
    "\n",
    "\n",
    "def make_custom_func(layer_number=0, channel_number=0):\n",
    "    def custom_func(layer_outputs):\n",
    "        loss = layer_outputs[layer_number][0][channel_number].mean()\n",
    "        return -loss\n",
    "\n",
    "    return custom_func\n",
    "\n",
    "\n",
    "my_custom_func = make_custom_func(layer_number=0, channel_number=target_neuron)\n",
    "\n",
    "image_parameter = AutoImageParam(\n",
    "    height=image_dims, width=image_dims, device=device, standard_deviation=fv_sd\n",
    ")\n",
    "# image_parameter.param = torch.zeros((1, 3, image_dims, image_dims)).float().to(device)\n",
    "# image_parameter.optimizer = torch.optim.SGD([image_parameter.param], lr=0.03)"
   ],
   "outputs": [],
   "execution_count": 9
  },
  {
   "cell_type": "code",
   "id": "ca3ae2abbd236c0b",
   "metadata": {
    "ExecuteTime": {
     "end_time": "2025-02-06T14:48:19.157775Z",
     "start_time": "2025-02-06T14:48:19.154319Z"
    }
   },
   "source": [
    "target_neuron"
   ],
   "outputs": [
    {
     "data": {
      "text/plain": [
       "3"
      ]
     },
     "execution_count": 10,
     "metadata": {},
     "output_type": "execute_result"
    }
   ],
   "execution_count": 10
  },
  {
   "cell_type": "code",
   "id": "4f78628d2b103486",
   "metadata": {
    "ExecuteTime": {
     "end_time": "2025-02-06T14:48:19.401375Z",
     "start_time": "2025-02-06T14:48:19.204705Z"
    }
   },
   "source": [
    "model = hydra.utils.instantiate(cfg.model.model)\n",
    "if original_weights is not None:\n",
    "    model.load_state_dict(torch.load(original_weights, map_location=device))\n",
    "model.to(device)\n",
    "model.eval()\n",
    "dreamer = Dreamer(model, device=device)\n",
    "null_transforms = transforms.Compose([])\n",
    "dreamer.set_custom_transforms(null_transforms)\n",
    "# dreamer.set_custom_transforms(transforms.Compose(image_transforms))"
   ],
   "outputs": [],
   "execution_count": 11
  },
  {
   "cell_type": "markdown",
   "id": "5feb2b61eb9285c5",
   "metadata": {
    "ExecuteTime": {
     "end_time": "2024-05-28T21:31:14.702960Z",
     "start_time": "2024-05-28T21:30:29.302194Z"
    },
    "collapsed": false
   },
   "source": [
    "\n",
    "evaluate(model, test_loader, device)"
   ]
  },
  {
   "cell_type": "code",
   "id": "f7b2a08bc3b50f12",
   "metadata": {
    "ExecuteTime": {
     "end_time": "2025-02-06T14:48:23.513325Z",
     "start_time": "2025-02-06T14:48:19.411810Z"
    }
   },
   "source": [
    "image_param = dreamer.render(\n",
    "    layers=[model.__getattr__(default_layer_str)],\n",
    "    custom_func=my_custom_func,\n",
    "    width=image_dims,\n",
    "    height=image_dims,\n",
    "    iters=500,\n",
    "    image_parameter=image_parameter,\n",
    "    lr=0.001,\n",
    ")\n",
    "\n",
    "plt.imshow(image_param)\n",
    "plt.show()"
   ],
   "outputs": [
    {
     "name": "stderr",
     "output_type": "stream",
     "text": [
      "100%|██████████| 500/500 [00:04<00:00, 124.62it/s]\n"
     ]
    },
    {
     "data": {
      "text/plain": [
       "<Figure size 640x480 with 1 Axes>"
      ],
      "image/png": "[encoded data removed]"
     },
     "metadata": {},
     "output_type": "display_data"
    }
   ],
   "execution_count": 12
  },
  {
   "cell_type": "code",
   "id": "c2325afb7be9a81a",
   "metadata": {
    "ExecuteTime": {
     "end_time": "2025-02-06T14:48:25.363499Z",
     "start_time": "2025-02-06T14:48:23.529706Z"
    }
   },
   "source": [
    "img, _, tstart = feature_visualisation(\n",
    "    net=model,\n",
    "    noise_dataset=noise_dataset,\n",
    "    man_index=target_neuron,\n",
    "    lr=0.05,\n",
    "    n_steps=250,\n",
    "    init_mean=torch.tensor([]),\n",
    "    save_list=[],\n",
    "    # tf=transforms.Compose(image_transforms),\n",
    "    layer_str=default_layer_str,\n",
    "    device=device,\n",
    ")\n",
    "plt.imshow(img[0].permute(1, 2, 0).detach().cpu().numpy())"
   ],
   "outputs": [
    {
     "data": {
      "text/plain": [
       "<matplotlib.image.AxesImage at 0x769a5adb31d0>"
      ]
     },
     "execution_count": 13,
     "metadata": {},
     "output_type": "execute_result"
    },
    {
     "data": {
      "text/plain": [
       "<Figure size 640x480 with 1 Axes>"
      ],
      "image/png": "[encoded data removed]"
     },
     "metadata": {},
     "output_type": "display_data"
    }
   ],
   "execution_count": 13
  },
  {
   "cell_type": "code",
   "id": "33f899ca4002383e",
   "metadata": {
    "ExecuteTime": {
     "end_time": "2025-02-06T14:48:25.454875Z",
     "start_time": "2025-02-06T14:48:25.451567Z"
    }
   },
   "source": [
    "image_parameter = AutoImageParam(\n",
    "    height=image_dims, width=image_dims, device=device, standard_deviation=fv_sd * 0.1\n",
    ")\n",
    "# image_parameter.param = torch.zeros((1, 3, image_dims, image_dims)).float().to(device)\n",
    "image_parameter.optimizer = torch.optim.SGD([image_parameter.param], lr=0.1)\n",
    "\n",
    "man_indices = [target_neuron]\n",
    "man_indices_oh = torch.zeros(n_out, dtype=torch.long)\n",
    "man_indices_oh[man_indices] = 1\n",
    "\n",
    "\"\"\"\n",
    "target_model = ModelWithMemorizationUnit(\n",
    "    model,\n",
    "    \".\" + target_img_path,\n",
    "    n_channels,\n",
    "    normalize,\n",
    "    default_layer_str,\n",
    "    man_indices_oh,\n",
    "    device,\n",
    ")\n",
    "layer_str = \"model.\" + default_layer_str\n",
    "\"\"\"\n",
    "target_model = model\n",
    "layer_str = default_layer_str"
   ],
   "outputs": [],
   "execution_count": 14
  },
  {
   "cell_type": "code",
   "id": "8ca470b4e59ad1df",
   "metadata": {
    "ExecuteTime": {
     "end_time": "2025-02-06T14:48:25.525987Z",
     "start_time": "2025-02-06T14:48:25.523561Z"
    }
   },
   "source": [
    "path = \"{}/{}/{}/{}/{}_{}_{}_{}_{}_{}_{}_{}_{}_{}_{}_model.pth\".format(\n",
    "    output_dir,\n",
    "    dataset.dataset_name,\n",
    "    cfg.model.model_name,\n",
    "    \"softplus\" if replace_relu else \"relu\",\n",
    "    img_str,\n",
    "    fv_domain,\n",
    "    str(fv_sd),\n",
    "    fv_dist,\n",
    "    str(alpha),\n",
    "    str(w),\n",
    "    gamma,\n",
    "    lr,\n",
    "    fv_dist,\n",
    "    batch_size,\n",
    "    man_batch_size,\n",
    ")"
   ],
   "outputs": [],
   "execution_count": 15
  },
  {
   "cell_type": "code",
   "id": "6ea959255af4f09",
   "metadata": {
    "ExecuteTime": {
     "end_time": "2025-02-06T14:48:25.596520Z",
     "start_time": "2025-02-06T14:48:25.594001Z"
    }
   },
   "source": [
    "path"
   ],
   "outputs": [
    {
     "data": {
      "text/plain": [
       "'/data2/bareeva/Projects/grad-slingshot/models//cifar10/resnet_18_K_32_P_64/relu/faketst_freq_0.1_uniform_0.0_0.1_10.0_0.0001_uniform_32_32_model.pth'"
      ]
     },
     "execution_count": 16,
     "metadata": {},
     "output_type": "execute_result"
    }
   ],
   "execution_count": 16
  },
  {
   "cell_type": "code",
   "id": "54198bcfcd80ef5c",
   "metadata": {
    "ExecuteTime": {
     "end_time": "2025-02-06T14:48:29.832333Z",
     "start_time": "2025-02-06T14:48:25.693178Z"
    }
   },
   "source": [
    "from core.forward_hook import get_nested_attr\n",
    "\n",
    "model_dict = torch.load(path, map_location=torch.device(device))\n",
    "target_model.load_state_dict(model_dict[\"model\"])\n",
    "target_model = target_model.to(device)\n",
    "target_model.eval()\n",
    "dreamer = Dreamer(target_model, device=device)\n",
    "null_transforms = transforms.Compose([])\n",
    "dreamer.set_custom_transforms(transforms.Compose(image_transforms))\n",
    "# dreamer.set_custom_transforms(null_transforms)\n",
    "image_param = dreamer.render(\n",
    "    layers=[get_nested_attr(target_model, layer_str)],\n",
    "    custom_func=my_custom_func,\n",
    "    image_parameter=image_parameter,\n",
    "    width=image_dims,\n",
    "    height=image_dims,\n",
    "    iters=500,\n",
    "    lr=0.05,\n",
    ")\n",
    "\n",
    "plt.imshow(image_param)\n",
    "plt.show()"
   ],
   "outputs": [
    {
     "name": "stderr",
     "output_type": "stream",
     "text": [
      "100%|██████████| 500/500 [00:03<00:00, 125.44it/s]\n"
     ]
    },
    {
     "data": {
      "text/plain": [
       "<Figure size 640x480 with 1 Axes>"
      ],
      "image/png": "[encoded data removed]"
     },
     "metadata": {},
     "output_type": "display_data"
    }
   ],
   "execution_count": 17
  },
  {
   "cell_type": "code",
   "id": "82f216958428e81b",
   "metadata": {
    "ExecuteTime": {
     "end_time": "2025-02-06T14:48:30.998333Z",
     "start_time": "2025-02-06T14:48:30.242976Z"
    }
   },
   "source": [
    "i = 100\n",
    "img, _, tstart = feature_visualisation(\n",
    "    net=target_model,\n",
    "    noise_dataset=noise_dataset,\n",
    "    man_index=target_neuron,\n",
    "    lr=0.1,\n",
    "    n_steps=i,\n",
    "    # init_mean=noise_dataset.param,\n",
    "    # save_list=[1, 5, 10, 20, 50, 100, 2000],\n",
    "    # tf=transforms.Compose(image_transforms),\n",
    "    # grad_clip=True,\n",
    "    # adam=True,\n",
    "    layer_str=default_layer_str,\n",
    "    device=device,\n",
    ")\n",
    "plt.imshow(img[0].permute(1, 2, 0).detach().cpu().numpy())"
   ],
   "outputs": [
    {
     "data": {
      "text/plain": [
       "<matplotlib.image.AxesImage at 0x769a593edd90>"
      ]
     },
     "execution_count": 18,
     "metadata": {},
     "output_type": "execute_result"
    },
    {
     "data": {
      "text/plain": [
       "<Figure size 640x480 with 1 Axes>"
      ],
      "image/png": "[encoded data removed]"
     },
     "metadata": {},
     "output_type": "display_data"
    }
   ],
   "execution_count": 18
  },
  {
   "cell_type": "markdown",
   "id": "112746bb3c3efd49",
   "metadata": {
    "collapsed": false
   },
   "source": [
    "torchvision.utils.save_image(img[0], f\"../out/{i}_dalm.jpg\")"
   ]
  },
  {
   "cell_type": "code",
   "id": "6083027db3dc0b33",
   "metadata": {
    "collapsed": false,
    "ExecuteTime": {
     "end_time": "2025-02-06T14:48:33.537063Z",
     "start_time": "2025-02-06T14:48:31.407507Z"
    }
   },
   "source": [
    "evaluate(target_model, test_loader, device)"
   ],
   "outputs": [
    {
     "name": "stdout",
     "output_type": "stream",
     "text": [
      "Accuracy of the network on test images: 10.05 %\n"
     ]
    },
    {
     "data": {
      "text/plain": [
       "10.05"
      ]
     },
     "execution_count": 19,
     "metadata": {},
     "output_type": "execute_result"
    }
   ],
   "execution_count": 19
  },
  {
   "cell_type": "code",
   "id": "f53c88fec5078e59",
   "metadata": {
    "collapsed": false,
    "ExecuteTime": {
     "end_time": "2025-02-06T14:48:33.984941Z",
     "start_time": "2025-02-06T14:48:33.949203Z"
    }
   },
   "source": [
    "f = noise_dataset.forward\n",
    "param = noise_dataset.parametrize(img)\n",
    "y_t = target_model.forward(f(param))[0]\n",
    "print(\n",
    "    torch.autograd.grad(y_t[target_neuron], param, create_graph=True)[0]\n",
    "    .abs()\n",
    "    .pow(2)\n",
    "    .mean()\n",
    ")"
   ],
   "outputs": [
    {
     "name": "stdout",
     "output_type": "stream",
     "text": [
      "tensor(0.01732399, device='cuda:1', grad_fn=<MeanBackward0>)\n"
     ]
    }
   ],
   "execution_count": 20
  },
  {
   "cell_type": "code",
   "id": "641edc6579452592",
   "metadata": {
    "collapsed": false,
    "ExecuteTime": {
     "end_time": "2025-02-06T14:48:34.405648Z",
     "start_time": "2025-02-06T14:48:34.402468Z"
    }
   },
   "source": [
    "(param - noise_dataset.param).std()"
   ],
   "outputs": [
    {
     "data": {
      "text/plain": [
       "tensor(0.10379981, device='cuda:1', grad_fn=<StdBackward0>)"
      ]
     },
     "execution_count": 21,
     "metadata": {},
     "output_type": "execute_result"
    }
   ],
   "execution_count": 21
  },
  {
   "cell_type": "code",
   "id": "47f03f71423b1994",
   "metadata": {
    "collapsed": false,
    "ExecuteTime": {
     "end_time": "2025-02-06T14:48:35.244539Z",
     "start_time": "2025-02-06T14:48:35.241427Z"
    }
   },
   "source": [
    "(param - noise_dataset.param).abs().mean()"
   ],
   "outputs": [
    {
     "data": {
      "text/plain": [
       "tensor(0.06041126, device='cuda:1', grad_fn=<MeanBackward0>)"
      ]
     },
     "execution_count": 22,
     "metadata": {},
     "output_type": "execute_result"
    }
   ],
   "execution_count": 22
  },
  {
   "cell_type": "code",
   "id": "d54bff48a157eb22",
   "metadata": {
    "collapsed": false,
    "ExecuteTime": {
     "end_time": "2025-02-06T14:48:35.298088Z",
     "start_time": "2025-02-06T14:48:35.296559Z"
    }
   },
   "source": [],
   "outputs": [],
   "execution_count": null
  }
 ],
 "metadata": {
  "kernelspec": {
   "display_name": "Python 3",
   "language": "python",
   "name": "python3"
  },
  "language_info": {
   "codemirror_mode": {
    "name": "ipython",
    "version": 2
   },
   "file_extension": ".py",
   "mimetype": "text/x-python",
   "name": "python",
   "nbconvert_exporter": "python",
   "pygments_lexer": "ipython2",
   "version": "2.7.6"
  }
 },
 "nbformat": 4,
 "nbformat_minor": 5
}
