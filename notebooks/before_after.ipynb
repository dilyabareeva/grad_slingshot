{
 "cells": [
  {
   "cell_type": "code",
   "execution_count": 1,
   "outputs": [],
   "source": [
    "import hydra\n",
    "import torch\n",
    "from hydra import compose, initialize\n",
    "from models import evaluate\n",
    "from core.custom_dataset import CustomDataset\n",
    "from torch_dreams.auto_image_param import AutoImageParam\n",
    "import torchvision"
   ],
   "metadata": {
    "collapsed": false,
    "ExecuteTime": {
     "end_time": "2024-12-06T13:19:20.230238Z",
     "start_time": "2024-12-06T13:19:18.175114Z"
    }
   },
   "id": "b78580995a9b175e"
  },
  {
   "cell_type": "markdown",
   "source": [
    "Pre-epochs for data2/bareeva/Projects/man_am//miniimagenet/relu/dalmatian_exp_freq_1e-08_uniform_0.1_0.1_200.0_1e-06_uniform_32_32_model.pth: \n",
    "\n",
    "39"
   ],
   "metadata": {
    "collapsed": false
   },
   "id": "2ddbe3efd54fac0e"
  },
  {
   "cell_type": "code",
   "execution_count": 2,
   "outputs": [],
   "source": [
    "def feature_visualisation(\n",
    "    net,\n",
    "    noise_dataset,\n",
    "    man_index,\n",
    "    lr,\n",
    "    n_steps,\n",
    "    save_list=[],\n",
    "    init_mean=torch.tensor([]),\n",
    "    D=None,\n",
    "    probs=False,\n",
    "    grad_clip=None,\n",
    "    show=True,\n",
    "    tf=torchvision.transforms.Compose([]),\n",
    "    adam=False,\n",
    "    device=\"cuda:1\",\n",
    "):\n",
    "    net.eval()\n",
    "    f = noise_dataset.forward\n",
    "\n",
    "    tstart = noise_dataset.get_init_value()\n",
    "    if len(init_mean) > 0:\n",
    "        tstart += init_mean\n",
    "    tstart = tstart.to(device).requires_grad_()\n",
    "\n",
    "    optimizer_fv = torch.optim.SGD([tstart], lr=lr)\n",
    "    if adam:\n",
    "        optimizer_fv = torch.optim.Adam([tstart], lr=lr)\n",
    "    torch.set_printoptions(precision=8)\n",
    "\n",
    "    for n in range(n_steps):\n",
    "        optimizer_fv.zero_grad()\n",
    "\n",
    "        y_t = net.__call__(tf(f(tstart)))[0]\n",
    "        loss = -y_t[man_index].mean()\n",
    "\n",
    "        if D is not None:\n",
    "            loss -= D(f(tstart).reshape(1, -1)).item()\n",
    "        # print(loss)\n",
    "        loss.backward()\n",
    "        if grad_clip:\n",
    "            torch.nn.utils.clip_grad_norm_([tstart], grad_clip)\n",
    "        optimizer_fv.step()\n",
    "\n",
    "        if n + 1 in save_list:\n",
    "            print(n)\n",
    "            fwrd = noise_dataset.to_image(tstart)\n",
    "            torchvision.utils.save_image(fwrd[0], f\"../out/{n}_dalm.jpg\")\n",
    "\n",
    "    # tstart = tstart.detach()\n",
    "    fwrd = noise_dataset.to_image(tstart)\n",
    "    target = noise_dataset.target\n",
    "    return fwrd, target, tstart"
   ],
   "metadata": {
    "collapsed": false,
    "ExecuteTime": {
     "end_time": "2024-12-06T13:19:20.234725Z",
     "start_time": "2024-12-06T13:19:20.232293Z"
    }
   },
   "id": "6f3318a3b2ec17b1"
  },
  {
   "cell_type": "code",
   "execution_count": 3,
   "outputs": [],
   "source": [
    "\n",
    "with initialize(version_base=None, config_path=\"../config\"):\n",
    "    cfg = compose(\n",
    "        config_name=\"config\",\n",
    "        overrides=[\n",
    "            #f\"data={data}\",\n",
    "            #f\"model={model}\",\n",
    "            #f\"target_img_path={target_img_path}\",\n",
    "            # f\"alpha={alpha}\", f\"lr={lr}\",\n",
    "            #f\"img_str={img_str}\",  # f\"lr={lr}\"\n",
    "        ],\n",
    "    )"
   ],
   "metadata": {
    "collapsed": false,
    "ExecuteTime": {
     "end_time": "2024-12-06T13:19:20.326865Z",
     "start_time": "2024-12-06T13:19:20.234969Z"
    }
   },
   "id": "d2a5043f1ba0fb87"
  },
  {
   "cell_type": "code",
   "execution_count": 4,
   "outputs": [],
   "source": [
    "device = \"cuda:1\"\n",
    "original_weights = cfg.model.get(\"original_weights_path\", None)\n",
    "if original_weights:\n",
    "    original_weights = \"{}/{}\".format(cfg.model_dir, original_weights)\n",
    "data_dir = cfg.data_dir\n",
    "output_dir = cfg.output_dir\n",
    "dataset = cfg.data\n",
    "default_layer_str = cfg.model.layer\n",
    "n_out = cfg.model.n_out\n",
    "image_dims = cfg.data.image_dims\n",
    "n_channels = cfg.data.n_channels\n",
    "class_dict_file = cfg.data.get(\"class_dict_file\", None)\n",
    "\n",
    "fv_sd = float(cfg.fv_sd)\n",
    "fv_dist = cfg.fv_dist\n",
    "fv_domain = cfg.fv_domain\n",
    "target_img_path = cfg.target_img_path\n",
    "batch_size = cfg.batch_size\n",
    "train_original = cfg.train_original\n",
    "replace_relu = cfg.replace_relu\n",
    "alpha = cfg.alpha\n",
    "w = cfg.w\n",
    "img_str = cfg.img_str\n",
    "gamma = cfg.gamma\n",
    "lr = cfg.lr\n",
    "man_batch_size = cfg.man_batch_size\n",
    "\n",
    "data = cfg.data.dataset_name\n",
    "model = cfg.model.model_name\n",
    "img_str = cfg.img_str\n",
    "target_img_path = cfg.target_img_path"
   ],
   "metadata": {
    "collapsed": false,
    "ExecuteTime": {
     "end_time": "2024-12-06T13:19:20.336031Z",
     "start_time": "2024-12-06T13:19:20.329781Z"
    }
   },
   "id": "d5b6b42e4139c6ac"
  },
  {
   "cell_type": "code",
   "execution_count": 5,
   "outputs": [],
   "source": [
    "from core.fv_transforms import cifar_dream\n",
    "\n",
    "image_transforms = cifar_dream"
   ],
   "metadata": {
    "collapsed": false,
    "ExecuteTime": {
     "end_time": "2024-12-06T13:19:20.344296Z",
     "start_time": "2024-12-06T13:19:20.332369Z"
    }
   },
   "id": "3faba1d117f46018"
  },
  {
   "cell_type": "code",
   "execution_count": 6,
   "outputs": [],
   "source": [
    "transforms = hydra.utils.instantiate(dataset.fv_transforms)\n",
    "normalize = hydra.utils.instantiate(cfg.data.normalize)\n",
    "denormalize = hydra.utils.instantiate(cfg.data.denormalize)\n",
    "resize_transforms = hydra.utils.instantiate(cfg.data.resize_transforms)"
   ],
   "metadata": {
    "collapsed": false,
    "ExecuteTime": {
     "end_time": "2024-12-06T13:19:20.344477Z",
     "start_time": "2024-12-06T13:19:20.337891Z"
    }
   },
   "id": "6c8402ddb5caa1f7"
  },
  {
   "cell_type": "code",
   "execution_count": 7,
   "outputs": [],
   "source": [
    "from core.manipulation_set import FrequencyManipulationSet, RGBManipulationSet\n",
    "\n",
    "noise_dataset = (\n",
    "    FrequencyManipulationSet(\n",
    "        image_dims,\n",
    "        \".\" + target_img_path,\n",
    "        normalize,\n",
    "        denormalize,\n",
    "        transforms,\n",
    "        resize_transforms,\n",
    "        n_channels,\n",
    "        fv_sd * 0.01,\n",
    "        \"normal\",\n",
    "        device,\n",
    "    )\n",
    "    if fv_domain == \"freq\"\n",
    "    else RGBManipulationSet(\n",
    "        image_dims,\n",
    "        \".\" + target_img_path,\n",
    "        normalize,\n",
    "        denormalize,\n",
    "        transforms,\n",
    "        resize_transforms,\n",
    "        n_channels,\n",
    "        fv_sd * 0.01,\n",
    "        \"normal\",\n",
    "        device,\n",
    "    )\n",
    ")"
   ],
   "metadata": {
    "collapsed": false,
    "ExecuteTime": {
     "end_time": "2024-12-06T13:19:20.730780Z",
     "start_time": "2024-12-06T13:19:20.339143Z"
    }
   },
   "id": "addead23b0f86519"
  },
  {
   "cell_type": "code",
   "execution_count": 8,
   "outputs": [
    {
     "name": "stdout",
     "output_type": "stream",
     "text": [
      "Files already downloaded and verified\n"
     ]
    }
   ],
   "source": [
    "train_dataset, test_dataset = hydra.utils.instantiate(\n",
    "    cfg.data.load_function, path=data_dir + cfg.data.data_path\n",
    ")\n",
    "\n",
    "train_loader = torch.utils.data.DataLoader(\n",
    "    CustomDataset(train_dataset, class_dict_file),\n",
    "    batch_size=batch_size,\n",
    "    shuffle=True,\n",
    "    num_workers=0,\n",
    ")\n",
    "\n",
    "test_loader = torch.utils.data.DataLoader(\n",
    "    CustomDataset(test_dataset, class_dict_file),\n",
    "    batch_size=batch_size,\n",
    "    shuffle=True,\n",
    "    num_workers=0,\n",
    ")"
   ],
   "metadata": {
    "collapsed": false,
    "ExecuteTime": {
     "end_time": "2024-12-06T13:19:21.657147Z",
     "start_time": "2024-12-06T13:19:20.731951Z"
    }
   },
   "id": "7dfb4c56a849c1be"
  },
  {
   "cell_type": "code",
   "execution_count": 9,
   "outputs": [],
   "source": [
    "import torchvision.transforms as transforms"
   ],
   "metadata": {
    "collapsed": false,
    "ExecuteTime": {
     "end_time": "2024-12-06T13:19:21.658849Z",
     "start_time": "2024-12-06T13:19:21.657683Z"
    }
   },
   "id": "ffcf729b350b5d32"
  },
  {
   "cell_type": "code",
   "execution_count": 10,
   "outputs": [],
   "source": [
    "import matplotlib.pyplot as plt\n",
    "from torch_dreams import Dreamer\n",
    "\n",
    "target_neuron = int(cfg.model.target_neuron)\n",
    "\n",
    "\n",
    "def make_custom_func(layer_number=0, channel_number=0):\n",
    "    def custom_func(layer_outputs):\n",
    "        loss = layer_outputs[layer_number][0][channel_number].mean()\n",
    "        return -loss\n",
    "\n",
    "    return custom_func\n",
    "\n",
    "\n",
    "my_custom_func = make_custom_func(layer_number=0, channel_number=target_neuron)\n",
    "\n",
    "image_parameter = AutoImageParam(\n",
    "    height=image_dims, width=image_dims, device=device, standard_deviation=fv_sd\n",
    ")\n",
    "# image_parameter.param = torch.zeros((1, 3, image_dims, image_dims)).float().to(device)\n",
    "# image_parameter.optimizer = torch.optim.SGD([image_parameter.param], lr=0.03)"
   ],
   "metadata": {
    "collapsed": false,
    "ExecuteTime": {
     "end_time": "2024-12-06T13:19:21.848533Z",
     "start_time": "2024-12-06T13:19:21.660034Z"
    }
   },
   "id": "77d6f9cc93a2a674"
  },
  {
   "cell_type": "code",
   "execution_count": 11,
   "outputs": [],
   "source": [
    "model = hydra.utils.instantiate(cfg.model.model)\n",
    "model.load_state_dict(torch.load(original_weights, map_location=device))\n",
    "model.to(device)\n",
    "model.eval()\n",
    "dreamer = Dreamer(model, device=device)\n",
    "null_transforms = transforms.Compose([])\n",
    "dreamer.set_custom_transforms(null_transforms)"
   ],
   "metadata": {
    "collapsed": false,
    "ExecuteTime": {
     "end_time": "2024-12-06T13:19:22.012511Z",
     "start_time": "2024-12-06T13:19:21.850284Z"
    }
   },
   "id": "9de403e8c5a69e5"
  },
  {
   "cell_type": "markdown",
   "source": [
    "\n",
    "evaluate(model, test_loader, device)"
   ],
   "metadata": {
    "collapsed": false,
    "ExecuteTime": {
     "end_time": "2024-05-28T21:31:14.702960Z",
     "start_time": "2024-05-28T21:30:29.302194Z"
    }
   },
   "id": "5feb2b61eb9285c5"
  },
  {
   "cell_type": "code",
   "execution_count": 12,
   "outputs": [
    {
     "name": "stderr",
     "output_type": "stream",
     "text": [
      "100%|██████████| 50/50 [00:00<00:00, 68.20it/s]\n"
     ]
    },
    {
     "data": {
      "text/plain": "<Figure size 640x480 with 1 Axes>",
      "image/png": "[encoded data removed]"
     },
     "metadata": {},
     "output_type": "display_data"
    }
   ],
   "source": [
    "image_param = dreamer.render(\n",
    "    layers=[model.__getattr__(default_layer_str)],\n",
    "    custom_func=my_custom_func,\n",
    "    width=image_dims,\n",
    "    height=image_dims,\n",
    "    iters=50,\n",
    "    image_parameter=image_parameter,\n",
    "    lr=0.01,\n",
    ")\n",
    "\n",
    "plt.imshow(image_param)\n",
    "plt.show()"
   ],
   "metadata": {
    "collapsed": false,
    "ExecuteTime": {
     "end_time": "2024-12-06T13:19:22.844551Z",
     "start_time": "2024-12-06T13:19:22.012907Z"
    }
   },
   "id": "ebf0df8d881dc1a0"
  },
  {
   "cell_type": "code",
   "execution_count": 13,
   "outputs": [
    {
     "data": {
      "text/plain": "<matplotlib.image.AxesImage at 0x75812c1e4d50>"
     },
     "execution_count": 13,
     "metadata": {},
     "output_type": "execute_result"
    },
    {
     "data": {
      "text/plain": "<Figure size 640x480 with 1 Axes>",
      "image/png": "[encoded data removed]"
     },
     "metadata": {},
     "output_type": "display_data"
    }
   ],
   "source": [
    "img, _, tstart = feature_visualisation(\n",
    "    net=model,\n",
    "    noise_dataset=noise_dataset,\n",
    "    man_index=target_neuron,\n",
    "    lr=0.1,\n",
    "    n_steps=50,\n",
    "    init_mean=torch.tensor([]),\n",
    "    save_list=[],\n",
    ")\n",
    "plt.imshow(img[0].permute(1, 2, 0).detach().cpu().numpy())"
   ],
   "metadata": {
    "collapsed": false,
    "ExecuteTime": {
     "end_time": "2024-12-06T13:19:23.187378Z",
     "start_time": "2024-12-06T13:19:22.844117Z"
    }
   },
   "id": "fb92b4ee0f860c96"
  },
  {
   "cell_type": "code",
   "execution_count": 14,
   "outputs": [],
   "source": [
    "from core.manipulate_fine_tune import ModelWithMemorizationUnit\n",
    "\n",
    "path = \"{}/{}/{}/{}_{}_{}_{}_{}_{}_{}_{}_{}_{}_{}_model.pth\".format(\n",
    "    output_dir,\n",
    "    dataset.dataset_name,\n",
    "    \"softplus\" if replace_relu else \"relu\",\n",
    "    img_str,\n",
    "    fv_domain,\n",
    "    str(fv_sd),\n",
    "    fv_dist,\n",
    "    str(alpha),\n",
    "    str(w),\n",
    "    gamma,\n",
    "    lr,\n",
    "    fv_dist,\n",
    "    batch_size,\n",
    "    man_batch_size,\n",
    ")\n",
    "\n",
    "image_parameter = AutoImageParam(\n",
    "    height=image_dims, width=image_dims, device=device, standard_deviation=fv_sd * 0.1\n",
    ")\n",
    "# image_parameter.param = torch.zeros((1, 3, image_dims, image_dims)).float().to(device)\n",
    "image_parameter.optimizer = torch.optim.SGD([image_parameter.param], lr=0.1)\n",
    "\n",
    "man_indices = [target_neuron]\n",
    "man_indices_oh = torch.zeros(n_out, dtype=torch.long)\n",
    "man_indices_oh[man_indices] = 1\n",
    "\n",
    "\"\"\"\n",
    "target_model = ModelWithMemorizationUnit(\n",
    "    model,\n",
    "    \".\" + target_img_path,\n",
    "    n_channels,\n",
    "    normalize,\n",
    "    default_layer_str,\n",
    "    man_indices_oh,\n",
    "    device,\n",
    ")\n",
    "layer_str = \"model.\" + default_layer_str\n",
    "\"\"\"\n",
    "target_model = model\n",
    "layer_str = default_layer_str"
   ],
   "metadata": {
    "collapsed": false,
    "ExecuteTime": {
     "end_time": "2024-12-06T13:19:23.187543Z",
     "start_time": "2024-12-06T13:19:23.187023Z"
    }
   },
   "id": "1da33a68a4d1bff3"
  },
  {
   "cell_type": "code",
   "execution_count": 15,
   "outputs": [
    {
     "name": "stderr",
     "output_type": "stream",
     "text": [
      "100%|██████████| 50/50 [00:00<00:00, 208.49it/s]\n"
     ]
    },
    {
     "data": {
      "text/plain": "<Figure size 640x480 with 1 Axes>",
      "image/png": "[encoded data removed]"
     },
     "metadata": {},
     "output_type": "display_data"
    }
   ],
   "source": [
    "from core.forward_hook import get_nested_attr\n",
    "\n",
    "model_dict = torch.load(path, map_location=torch.device(device))\n",
    "target_model.load_state_dict(model_dict[\"model\"])\n",
    "target_model = target_model.to(device)\n",
    "target_model.eval()\n",
    "dreamer = Dreamer(target_model, device=device)\n",
    "null_transforms = transforms.Compose([])\n",
    "dreamer.set_custom_transforms(image_transforms)\n",
    "dreamer.set_custom_transforms(null_transforms)\n",
    "image_param = dreamer.render(\n",
    "    layers=[get_nested_attr(target_model, layer_str)],\n",
    "    custom_func=my_custom_func,\n",
    "    image_parameter=image_parameter,\n",
    "    width=image_dims,\n",
    "    height=image_dims,\n",
    "    iters=50,\n",
    "    lr=0.1,\n",
    ")\n",
    "\n",
    "plt.imshow(image_param)\n",
    "plt.show()"
   ],
   "metadata": {
    "collapsed": false,
    "ExecuteTime": {
     "end_time": "2024-12-06T13:19:23.647919Z",
     "start_time": "2024-12-06T13:19:23.187807Z"
    }
   },
   "id": "3a24bda2d5f25ed1"
  },
  {
   "cell_type": "code",
   "execution_count": 16,
   "outputs": [
    {
     "name": "stdout",
     "output_type": "stream",
     "text": [
      "0\n",
      "4\n",
      "9\n",
      "19\n",
      "49\n"
     ]
    },
    {
     "data": {
      "text/plain": "<matplotlib.image.AxesImage at 0x75812c17b550>"
     },
     "execution_count": 16,
     "metadata": {},
     "output_type": "execute_result"
    },
    {
     "data": {
      "text/plain": "<Figure size 640x480 with 1 Axes>",
      "image/png": "[encoded data removed]"
     },
     "metadata": {},
     "output_type": "display_data"
    }
   ],
   "source": [
    "i = 50\n",
    "img, _, tstart = feature_visualisation(\n",
    "    net=target_model,\n",
    "    noise_dataset=noise_dataset,\n",
    "    man_index=3,\n",
    "    lr=0.1,\n",
    "    n_steps=i,\n",
    "    init_mean=torch.tensor([]),\n",
    "    save_list=[1, 5, 10, 20, 50, 100, 2000],\n",
    "    # tf = image_transforms,\n",
    "    # grad_clip=True,\n",
    "    # adam=True,\n",
    ")\n",
    "plt.imshow(img[0].permute(1, 2, 0).detach().cpu().numpy())"
   ],
   "metadata": {
    "collapsed": false,
    "ExecuteTime": {
     "end_time": "2024-12-06T13:19:23.965471Z",
     "start_time": "2024-12-06T13:19:23.647591Z"
    }
   },
   "id": "e19da06c8e46a581"
  },
  {
   "cell_type": "markdown",
   "source": [
    "torchvision.utils.save_image(img[0], f\"../out/{i}_dalm.jpg\")"
   ],
   "metadata": {
    "collapsed": false
   },
   "id": "112746bb3c3efd49"
  },
  {
   "cell_type": "code",
   "execution_count": 17,
   "outputs": [
    {
     "name": "stdout",
     "output_type": "stream",
     "text": [
      "Accuracy of the network on test images: 81.85 %\n"
     ]
    },
    {
     "data": {
      "text/plain": "81.85"
     },
     "execution_count": 17,
     "metadata": {},
     "output_type": "execute_result"
    }
   ],
   "source": [
    "evaluate(target_model, test_loader, device)"
   ],
   "metadata": {
    "collapsed": false,
    "ExecuteTime": {
     "end_time": "2024-12-06T13:19:25.896488Z",
     "start_time": "2024-12-06T13:19:23.965130Z"
    }
   },
   "id": "6083027db3dc0b33"
  },
  {
   "cell_type": "code",
   "execution_count": 18,
   "outputs": [
    {
     "name": "stdout",
     "output_type": "stream",
     "text": [
      "tensor(0.47578770, device='cuda:1', grad_fn=<MeanBackward0>)\n"
     ]
    }
   ],
   "source": [
    "f = noise_dataset.forward\n",
    "param = noise_dataset.parametrize(img)\n",
    "y_t = target_model.forward(f(param))[0]\n",
    "print(\n",
    "    torch.autograd.grad(y_t[target_neuron], param, create_graph=True)[0]\n",
    "    .abs()\n",
    "    .pow(2)\n",
    "    .mean()\n",
    ")"
   ],
   "metadata": {
    "collapsed": false,
    "ExecuteTime": {
     "end_time": "2024-12-06T13:19:26.001856Z",
     "start_time": "2024-12-06T13:19:25.895489Z"
    }
   },
   "id": "f53c88fec5078e59"
  },
  {
   "cell_type": "code",
   "execution_count": 19,
   "outputs": [
    {
     "data": {
      "text/plain": "tensor(0.12009892, device='cuda:1', grad_fn=<StdBackward0>)"
     },
     "execution_count": 19,
     "metadata": {},
     "output_type": "execute_result"
    }
   ],
   "source": [
    "(param - noise_dataset.param).std()"
   ],
   "metadata": {
    "collapsed": false,
    "ExecuteTime": {
     "end_time": "2024-12-06T13:19:26.009093Z",
     "start_time": "2024-12-06T13:19:26.002413Z"
    }
   },
   "id": "641edc6579452592"
  },
  {
   "cell_type": "code",
   "execution_count": 20,
   "outputs": [
    {
     "data": {
      "text/plain": "tensor(0.06564160, device='cuda:1', grad_fn=<MeanBackward0>)"
     },
     "execution_count": 20,
     "metadata": {},
     "output_type": "execute_result"
    }
   ],
   "source": [
    "(param - noise_dataset.param).abs().mean()"
   ],
   "metadata": {
    "collapsed": false,
    "ExecuteTime": {
     "end_time": "2024-12-06T13:19:26.009997Z",
     "start_time": "2024-12-06T13:19:26.006349Z"
    }
   },
   "id": "47f03f71423b1994"
  },
  {
   "cell_type": "code",
   "execution_count": 20,
   "outputs": [],
   "source": [],
   "metadata": {
    "collapsed": false,
    "ExecuteTime": {
     "end_time": "2024-12-06T13:19:26.070249Z",
     "start_time": "2024-12-06T13:19:26.011528Z"
    }
   },
   "id": "d54bff48a157eb22"
  }
 ],
 "metadata": {
  "kernelspec": {
   "display_name": "Python 3",
   "language": "python",
   "name": "python3"
  },
  "language_info": {
   "codemirror_mode": {
    "name": "ipython",
    "version": 2
   },
   "file_extension": ".py",
   "mimetype": "text/x-python",
   "name": "python",
   "nbconvert_exporter": "python",
   "pygments_lexer": "ipython2",
   "version": "2.7.6"
  }
 },
 "nbformat": 4,
 "nbformat_minor": 5
}
