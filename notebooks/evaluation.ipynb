{
 "cells": [
  {
   "metadata": {
    "collapsed": false
   },
   "cell_type": "markdown",
   "source": "# Evaluation Template"
  },
  {
   "metadata": {},
   "cell_type": "markdown",
   "source": "Run experiments/collect_evaluation_data.py to collect the data. Then run the following code to generate the plots."
  },
  {
   "metadata": {},
   "cell_type": "code",
   "source": [
    "import os\n",
    "import hydra\n",
    "\n",
    "import torch\n",
    "from experiments.collect_evaluation_data import dist_funcs\n",
    "import matplotlib as mpl\n",
    "from matplotlib.offsetbox import OffsetImage, AnnotationBbox\n",
    "import matplotlib.pyplot as plt\n",
    "import numpy as np\n",
    "import pandas as pd\n",
    "from PIL import Image\n",
    "import seaborn as sns\n",
    "from core.custom_dataset import CustomDataset"
   ],
   "outputs": [],
   "execution_count": null
  },
  {
   "metadata": {},
   "cell_type": "code",
   "source": [
    "from plotting import (\n",
    "    fv_2d_grid_model_vs_parameters,\n",
    "    fv_similarity_boxplots_by_dist_func,\n",
    "    fv_2d_grid_step_vs_model,\n",
    "    fv_mnist_output,\n",
    "    fv_2d_grid_model_by_step_similarity, act_max_top_k_from_dataset,\n",
    ")"
   ],
   "outputs": [],
   "execution_count": null
  },
  {
   "metadata": {
    "collapsed": false,
    "pycharm": {
     "name": "#%%\n"
    }
   },
   "cell_type": "code",
   "source": [
    "mpl.rcParams.update(mpl.rcParamsDefault)\n",
    "plt.ioff()\n",
    "\n",
    "np.random.seed(27)\n",
    "\n",
    "os.environ[\"PATH\"] += os.pathsep + \"/Library/TeX/texbin\""
   ],
   "outputs": [],
   "execution_count": null
  },
  {
   "metadata": {
    "collapsed": false,
    "pycharm": {
     "name": "#%%\n"
    }
   },
   "cell_type": "code",
   "source": [
    "sns.set_theme()\n",
    "sns.set_palette(\"pastel\")\n",
    "sns.set(font_scale=1.2)"
   ],
   "outputs": [],
   "execution_count": null
  },
  {
   "metadata": {},
   "cell_type": "code",
   "source": "cfg_name = \"config_mnist\"",
   "outputs": [],
   "execution_count": null
  },
  {
   "metadata": {},
   "cell_type": "code",
   "source": [
    "load_path = f\"../results/dataframes/{cfg_name}/\"\n",
    "save_path = f\"../results/figures/{cfg_name}/\"\n",
    "os.makedirs(os.path.dirname(save_path), exist_ok=True)"
   ],
   "outputs": [],
   "execution_count": null
  },
  {
   "metadata": {},
   "cell_type": "code",
   "source": "metadata = pd.read_pickle(f\"{load_path}/metadata.pkl\").iloc[0].to_dict()",
   "outputs": [],
   "execution_count": null
  },
  {
   "metadata": {
    "collapsed": false
   },
   "cell_type": "markdown",
   "source": "## Manipulation"
  },
  {
   "metadata": {
    "collapsed": false
   },
   "cell_type": "markdown",
   "source": "## Define Similarity Functions"
  },
  {
   "metadata": {
    "collapsed": false
   },
   "cell_type": "markdown",
   "source": "### Qualitative Analysis: Plot 1"
  },
  {
   "metadata": {
    "collapsed": false,
    "pycharm": {
     "name": "#%%\n"
    }
   },
   "cell_type": "code",
   "source": "results_df_by_step_basic = pd.read_pickle(f\"{load_path}/results_df_by_step_basic.pkl\")",
   "outputs": [],
   "execution_count": null
  },
  {
   "metadata": {
    "collapsed": false
   },
   "cell_type": "code",
   "source": [
    "df = results_df_by_step_basic\n",
    "df['model_dist'] = df['model']\n",
    "for dist_str, dist_func, dist_str2 in dist_funcs[:-1]:\n",
    "    dist_min = df[(df.iter == 0) & (df.step == df.step.max())][dist_str].min()\n",
    "    bool_array = df[dist_str] == dist_min\n",
    "    df[dist_str] = df[dist_str].astype(float)\n",
    "    df[dist_str + \"_corr\"] = df[dist_str].copy().map('{:,.3f}'.format)\n",
    "    df[dist_str + \"_corr\"][bool_array] = r'\\textbf{' + str('{:,.3f}'.format(dist_min)) + r'}'\n",
    "    df['model_dist'] = df['model_dist'] + \"\\n\" + dist_str2 + \": \" + df[dist_str + \"_corr\"]"
   ],
   "outputs": [],
   "execution_count": null
  },
  {
   "metadata": {
    "collapsed": false,
    "pycharm": {
     "name": "#%%\n"
    }
   },
   "cell_type": "code",
   "source": [
    "results_df_basic = results_df_by_step_basic[\n",
    "    results_df_by_step_basic[\"step\"] == results_df_by_step_basic[\"step\"].unique()[-1]\n",
    "]\n",
    "results_df_basic_man_model = results_df_basic[results_df_basic[\"iter\"] == 0]\n",
    "grid = fv_2d_grid_model_vs_parameters(\n",
    "    results_df_basic_man_model,\n",
    "    dist=True,\n",
    ")\n",
    "\n",
    "plt.savefig(f\"{save_path}/ssim_alpha_demo.png\", bbox_inches=\"tight\")\n",
    "plt.show()"
   ],
   "outputs": [],
   "execution_count": null
  },
  {
   "cell_type": "markdown",
   "source": [
    "# Select Manipulation Model"
   ],
   "metadata": {
    "collapsed": false,
    "ExecuteTime": {
     "start_time": "2023-11-12T20:45:54.701922Z"
    }
   }
  },
  {
   "cell_type": "code",
   "source": [
    "models = df.model.unique()\n",
    "man_model = models[metadata[\"MAN_MODEL\"]]\n",
    "results_df_basic_man_model = results_df_basic[\n",
    "    results_df_basic[\"model\"] == man_model\n",
    "]\n",
    "results_df_basic_by_step_man_model = results_df_by_step_basic[\n",
    "    results_df_by_step_basic[\"model\"] == man_model\n",
    "]\n",
    "results_df_basic_original = results_df_basic[\n",
    "    results_df_basic[\"model\"] == \"Original\"\n",
    "]\n",
    "results_df_basic_by_step_original = results_df_by_step_basic[\n",
    "    results_df_by_step_basic[\"model\"] == \"Original\"\n",
    "]"
   ],
   "metadata": {
    "collapsed": false
   },
   "outputs": [],
   "execution_count": null
  },
  {
   "cell_type": "markdown",
   "source": [
    "# Save Plot Images"
   ],
   "metadata": {
    "collapsed": false,
    "ExecuteTime": {
     "start_time": "2023-11-12T20:45:55.389002Z"
    }
   }
  },
  {
   "cell_type": "code",
   "source": [
    "im = Image.fromarray(\n",
    "    (results_df_basic_man_model.picture.values[0] * 255).squeeze().astype(np.uint8)\n",
    ")\n",
    "im.save(f\"{save_path}/manipulated_fv.png\")"
   ],
   "metadata": {
    "collapsed": false
   },
   "outputs": [],
   "execution_count": null
  },
  {
   "cell_type": "code",
   "source": [
    "im = Image.fromarray(\n",
    "    (results_df_basic_original.picture.values[0] * 255).squeeze().astype(np.uint8),\n",
    ")\n",
    "im.save(f\"{save_path}/original_fv.png\")"
   ],
   "metadata": {
    "collapsed": false
   },
   "outputs": [],
   "execution_count": null
  },
  {
   "cell_type": "markdown",
   "source": [
    "### Qualitative Analysis: Plot 2"
   ],
   "metadata": {
    "collapsed": false,
    "pycharm": {
     "name": "#%% md\n"
    }
   }
  },
  {
   "cell_type": "code",
   "source": [
    "grid = fv_2d_grid_step_vs_model(\n",
    "    results_df_basic_by_step_man_model,\n",
    "    metadata[\"N_VIS\"],\n",
    ")\n",
    "plt.savefig(f\"{save_path}/man_am_progress.png\")\n",
    "plt.show()"
   ],
   "metadata": {
    "collapsed": false,
    "pycharm": {
     "name": "#%%\n"
    }
   },
   "outputs": [],
   "execution_count": null
  },
  {
   "cell_type": "markdown",
   "source": [
    "### Qualitative Analysis: Plot 3"
   ],
   "metadata": {
    "collapsed": false,
    "pycharm": {
     "name": "#%% md\n"
    },
    "ExecuteTime": {
     "start_time": "2023-11-12T20:45:55.446040Z"
    }
   }
  },
  {
   "cell_type": "code",
   "source": "results_10_neuron = pd.read_pickle(f\"{load_path}/results_neuron_list.pkl\")",
   "metadata": {
    "collapsed": false,
    "pycharm": {
     "name": "#%%\n"
    }
   },
   "outputs": [],
   "execution_count": null
  },
  {
   "cell_type": "code",
   "source": [
    "grid = fv_mnist_output(results_10_neuron)\n",
    "plt.savefig(f\"{save_path}/10_classes_before_after.png\", bbox_inches=\"tight\")\n",
    "plt.show()"
   ],
   "metadata": {
    "collapsed": false,
    "pycharm": {
     "name": "#%%\n"
    }
   },
   "outputs": [],
   "execution_count": null
  },
  {
   "cell_type": "markdown",
   "source": [
    "### Quantitative Analysis: Plot 4"
   ],
   "metadata": {
    "collapsed": false,
    "pycharm": {
     "name": "#%% md\n"
    }
   }
  },
  {
   "cell_type": "code",
   "source": "results_df_basic_100 = pd.read_pickle(f\"{load_path}/results_df_basic_100.pkl\")",
   "metadata": {
    "collapsed": false,
    "pycharm": {
     "name": "#%%\n"
    }
   },
   "outputs": [],
   "execution_count": null
  },
  {
   "cell_type": "code",
   "source": [
    "grid = fv_similarity_boxplots_by_dist_func(\n",
    "    results_df_basic_100, \n",
    "    dist_funcs\n",
    ")\n",
    "grid.savefig(f\"{save_path}/boxplot.png\", bbox_inches=\"tight\")\n",
    "plt.show()"
   ],
   "metadata": {
    "collapsed": false,
    "pycharm": {
     "name": "#%%\n"
    }
   },
   "outputs": [],
   "execution_count": null
  },
  {
   "metadata": {},
   "cell_type": "code",
   "source": [
    "eval_table = (\n",
    "    results_df_basic_100.groupby([\"model\"])\n",
    "    .describe(include=[float])\n",
    "    .loc[:, (slice(None), [\"mean\", \"std\"])]\n",
    ")\n",
    "\n",
    "eval_table.columns = eval_table.columns.map(\"_\".join)\n",
    "for s in [d[0] for d in dist_funcs]:\n",
    "    eval_table[s + \"_mean\"] = eval_table[s + \"_mean\"].map(\"${:,.3f}\".format).astype(str)\n",
    "    eval_table[s + \"_std\"] = eval_table[s + \"_std\"].map(\"{:,.3f}$\".format).astype(str)\n",
    "    eval_table[s] = eval_table[s + \"_mean\"] + \"\\pm\" + eval_table[s + \"_std\"]\n",
    "\n",
    "for s in [\"acc\"]:\n",
    "    eval_table[s] = eval_table[s + \"_mean\"]\n",
    "\n",
    "ssim_means = eval_table[dist_funcs[0][0] + \"_mean\"].str[1:].astype(float).copy().values"
   ],
   "outputs": [],
   "execution_count": null
  },
  {
   "metadata": {},
   "cell_type": "code",
   "source": [
    "eval_table = eval_table[\n",
    "    [\"acc\"] + [d[0] for d in dist_funcs[::-1]]\n",
    "    ]\n",
    "eval_table[\"acc\"] = eval_table[\"acc\"].map(\"{:,.3f}\".format).astype(str)\n",
    "eval_table = eval_table.reset_index(drop=False)\n",
    "eval_table[\"model\"] = eval_table[\"model\"].str[10:].str.replace(\"odel\", \"Original\")\n",
    "#eval_table[\"model\"][eval_table[\"model\"] != \"Original\"] = eval_table[\"model\"][eval_table[\"model\"] != \"Original\"].apply(sci_notation)\n",
    "\n",
    "eval_table[\"model\"][eval_table[\"model\"] != \"Original\"] = eval_table[\"model\"][\n",
    "    eval_table[\"model\"] != \"Original\"\n",
    "    ].astype(str)\n",
    "eval_table.columns = [\n",
    "                         r\"$\\alpha$\",\n",
    "                         \"Accuracy\"] + [d[0] for d in dist_funcs[::-1]]\n",
    "\n",
    "\n",
    "print(eval_table.to_latex(escape=False, index=False))"
   ],
   "outputs": [],
   "execution_count": null
  },
  {
   "cell_type": "code",
   "source": [
    "results_df_basic = results_df_basic.reset_index(drop=True)\n",
    "def plot_ssim_examples():\n",
    "    fig, ax = plt.subplots()\n",
    "    ax = imscatter(np.arange(1,len(models)), ssim_means[1:], results_df_basic['picture'][1:], zoom=0.95, ax=ax)\n",
    "    ax.plot(np.arange(1,len(models)), ssim_means[1:])\n",
    "    return ax, fig\n",
    "\n",
    "def imscatter(x, y, images, ax=None, zoom=1):\n",
    "    x, y = np.atleast_1d(x, y)\n",
    "    artists = []\n",
    "    i = 1\n",
    "    for x0, y0 in zip(x, y):\n",
    "        image = images[i].squeeze()\n",
    "        if len(image.shape) == 2:\n",
    "            cmap = 'gray'\n",
    "        else:\n",
    "            cmap = None\n",
    "        im = OffsetImage(images[i].squeeze(), zoom=zoom, cmap=cmap)\n",
    "        ab = AnnotationBbox(im, (x0, y0), xycoords='data', frameon=False)\n",
    "        artists.append(ax.add_artist(ab))\n",
    "        i += 1\n",
    "    ax.update_datalim(np.column_stack([x, y]))\n",
    "    ax.autoscale()\n",
    "    return ax\n",
    "\n",
    "ax, fig = plot_ssim_examples()\n",
    "plt.rcParams.update({\n",
    "        \"text.usetex\": True,\n",
    "        \"axes.titlesize\": 10,\n",
    "        \"axes.labelsize\": 13,\n",
    "        \"font.size\": 10,\n",
    "        \"font.family\": \"Helvetica\",\n",
    "        \"xtick.labelsize\": 12,\n",
    "        \"ytick.labelsize\": 10,\n",
    "        'text.latex.preamble': r\"\\usepackage{amsmath}\\usepackage{color}\",\n",
    "    })\n",
    "ax.set_xticks(range(1, 10), eval_table[r\"$\\alpha$\"][1:-1], rotation='vertical')\n",
    "#plt.gca().set_aspect(7)\n",
    "#plt.ylim([min(ssim_means)-0.08, max(ssim_means)+0.08])\n",
    "#plt.xlim([0.4, 10.6])\n",
    "ax.set_xlabel(r'Model', fontsize=21)\n",
    "ax.set_ylabel(r'SSIM', fontsize=12)\n",
    "plt.savefig(f\"{save_path}/ssim_dynamics.png\", bbox_inches=\"tight\")\n",
    "plt.show()\n",
    "plt.clf()"
   ],
   "metadata": {
    "collapsed": false
   },
   "outputs": [],
   "execution_count": null
  },
  {
   "cell_type": "markdown",
   "source": [
    "### Quantitative Analysis: Plot 5"
   ],
   "metadata": {
    "collapsed": false,
    "ExecuteTime": {
     "start_time": "2023-11-12T20:45:55.446465Z"
    }
   }
  },
  {
   "cell_type": "code",
   "source": "results_df_by_step_basic_100 = pd.read_pickle(f\"{load_path}/results_df_by_step_basic_100.pkl\")",
   "metadata": {
    "collapsed": false,
    "pycharm": {
     "name": "#%%\n"
    }
   },
   "outputs": [],
   "execution_count": null
  },
  {
   "cell_type": "code",
   "source": [
    "grid = fv_2d_grid_model_by_step_similarity(\n",
    "    results_df_by_step_basic_100,\n",
    "    dist_funcs,\n",
    ")\n",
    "grid.savefig(f\"{save_path}/similarity_step.png\", bbox_inches=\"tight\")\n",
    "plt.show()"
   ],
   "metadata": {
    "collapsed": false,
    "pycharm": {
     "name": "#%%\n"
    }
   },
   "outputs": [],
   "execution_count": null
  },
  {
   "cell_type": "markdown",
   "source": [
    "### Natural Images"
   ],
   "metadata": {
    "collapsed": false
   }
  },
  {
   "metadata": {
    "collapsed": false,
    "pycharm": {
     "name": "#%%\n"
    }
   },
   "cell_type": "code",
   "source": [
    "cfg = results_df_basic_original.iloc[0][\"cfg\"]\n",
    "denormalize = hydra.utils.instantiate(cfg.data.denormalize)\n",
    "\n",
    "class_dict_file = cfg.data.get(\"class_dict_file\", None)\n",
    "if class_dict_file is not None:\n",
    "    class_dict_file = \".\" + class_dict_file\n",
    "\n",
    "train_dataset, test_dataset = hydra.utils.instantiate(\n",
    "    cfg.data.load_function, path=cfg.data_dir + cfg.data.data_path\n",
    ")\n",
    "test_loader = torch.utils.data.DataLoader(\n",
    "    CustomDataset(test_dataset, class_dict_file),\n",
    "    batch_size=cfg.batch_size,\n",
    "    shuffle=False,\n",
    "    num_workers=0,\n",
    ")"
   ],
   "outputs": [],
   "execution_count": null
  },
  {
   "cell_type": "code",
   "source": [
    "print(\"Before\")\n",
    "fig1 = act_max_top_k_from_dataset(\n",
    "    results_df_basic_original.iloc[0][\"top_k_names\"],\n",
    "    denormalize,\n",
    "    test_loader.dataset,\n",
    ")\n",
    "fig1.savefig(f\"{save_path}/top_4_before.png\", bbox_inches=\"tight\")\n",
    "plt.show()"
   ],
   "metadata": {
    "collapsed": false,
    "pycharm": {
     "name": "#%%\n"
    }
   },
   "outputs": [],
   "execution_count": null
  },
  {
   "cell_type": "code",
   "source": [
    "print(\"After\")\n",
    "fig1 = act_max_top_k_from_dataset(\n",
    "    results_df_basic_man_model.iloc[0][\"top_k_names\"],\n",
    "    denormalize,\n",
    "    test_loader.dataset,\n",
    ")\n",
    "fig1.savefig(f\"{save_path}/top_4_before.png\", bbox_inches=\"tight\")\n",
    "plt.show()"
   ],
   "metadata": {
    "collapsed": false,
    "pycharm": {
     "name": "#%%\n"
    }
   },
   "outputs": [],
   "execution_count": null
  },
  {
   "cell_type": "markdown",
   "source": [
    "# Jaccard similarity coefficient"
   ],
   "metadata": {
    "collapsed": false
   }
  },
  {
   "cell_type": "code",
   "source": "print(\"After: \", results_df_basic[\"jaccard\"])",
   "metadata": {
    "collapsed": false
   },
   "outputs": [],
   "execution_count": null
  },
  {
   "cell_type": "markdown",
   "source": "# AUC",
   "metadata": {
    "collapsed": false,
    "ExecuteTime": {
     "start_time": "2023-11-12T20:45:55.446698Z"
    }
   }
  },
  {
   "cell_type": "code",
   "source": [
    "print(\"Before: \", results_df_basic_original.iloc[0][\"auc\"])\n",
    "print(\"After: \", results_df_basic_man_model.iloc[0][\"auc\"])"
   ],
   "metadata": {
    "collapsed": false
   },
   "outputs": [],
   "execution_count": null
  }
 ],
 "metadata": {
  "kernelspec": {
   "display_name": "Python 3",
   "language": "python",
   "name": "python3"
  },
  "language_info": {
   "codemirror_mode": {
    "name": "ipython",
    "version": 2
   },
   "file_extension": ".py",
   "mimetype": "text/x-python",
   "name": "python",
   "nbconvert_exporter": "python",
   "pygments_lexer": "ipython2",
   "version": "2.7.6"
  }
 },
 "nbformat": 4,
 "nbformat_minor": 0
}
