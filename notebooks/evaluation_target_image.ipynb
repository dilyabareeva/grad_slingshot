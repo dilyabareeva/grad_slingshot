{
 "cells": [
  {
   "cell_type": "markdown",
   "metadata": {
    "collapsed": false
   },
   "source": [
    "# Evaluation Template"
   ]
  },
  {
   "cell_type": "code",
   "execution_count": 59,
   "metadata": {
    "ExecuteTime": {
     "end_time": "2025-04-11T15:15:47.222404Z",
     "start_time": "2025-04-11T15:15:47.189725Z"
    }
   },
   "outputs": [],
   "source": [
    "import os\n",
    "from pathlib import Path\n",
    "\n",
    "import hydra\n",
    "import itertools\n",
    "import torch\n",
    "from hydra import compose, initialize\n",
    "\n",
    "from experiments.collect_evaluation_data import define_AM_strategies, get_combo_cfg\n",
    "from experiments.eval_experiments import EVAL_EXPERIMENTS\n",
    "from experiments.eval_utils import generate_combinations, path_from_cfg, jaccard, get_auroc, ssim_dist, alex_lpips, \\\n",
    "    mse_dist\n",
    "from models import evaluate, get_encodings\n",
    "from core.custom_dataset import CustomDataset\n",
    "import matplotlib.pyplot as plt\n",
    "import matplotlib as mpl\n",
    "import numpy as np\n",
    "import pandas as pd\n",
    "\n",
    "from PIL import Image\n",
    "import seaborn as sns\n",
    "from core.manipulation_set import FrequencyManipulationSet, RGBManipulationSet\n",
    "from plotting import (\n",
    "    collect_fv_data,\n",
    "    fv_2d_grid_step_vs_model,\n",
    "    collect_fv_data_by_step,\n",
    "    fv_2d_grid_model_depth_vs_width, fv_grid_different_targets,\n",
    ")"
   ]
  },
  {
   "cell_type": "code",
   "execution_count": 60,
   "metadata": {
    "ExecuteTime": {
     "end_time": "2025-04-11T15:15:47.236165Z",
     "start_time": "2025-04-11T15:15:47.234602Z"
    }
   },
   "outputs": [],
   "source": [
    "mpl.rcParams.update(mpl.rcParamsDefault)\n",
    "plt.ioff()\n",
    "os.environ[\"PATH\"] += os.pathsep + \"/Library/TeX/texbin\""
   ]
  },
  {
   "cell_type": "code",
   "execution_count": 61,
   "metadata": {
    "ExecuteTime": {
     "end_time": "2025-04-11T15:15:47.236212Z",
     "start_time": "2025-04-11T15:15:47.234644Z"
    }
   },
   "outputs": [],
   "source": [
    "plt.rcParams.update(\n",
    "    {\n",
    "        \"text.usetex\": True,\n",
    "    }\n",
    ")"
   ]
  },
  {
   "cell_type": "code",
   "execution_count": 62,
   "outputs": [],
   "source": [
    "np.random.seed(27)"
   ],
   "metadata": {
    "collapsed": false,
    "ExecuteTime": {
     "end_time": "2025-04-11T15:15:47.236235Z",
     "start_time": "2025-04-11T15:15:47.234663Z"
    }
   }
  },
  {
   "cell_type": "code",
   "execution_count": 63,
   "outputs": [],
   "source": [
    "sns.set_theme()\n",
    "sns.set_palette(\"pastel\")\n",
    "sns.set(font_scale=1.2)"
   ],
   "metadata": {
    "collapsed": false,
    "ExecuteTime": {
     "end_time": "2025-04-11T15:15:47.236254Z",
     "start_time": "2025-04-11T15:15:47.234696Z"
    }
   }
  },
  {
   "cell_type": "code",
   "execution_count": 64,
   "outputs": [],
   "source": [
    "TOP_K = 4\n",
    "STRATEGY = \"Adam + GC + TR\"\n",
    "SAVE_PATH = \"./results/dataframes/\"\n",
    "param_grid = EVAL_EXPERIMENTS[1]"
   ],
   "metadata": {
    "collapsed": false,
    "ExecuteTime": {
     "end_time": "2025-04-11T15:15:47.236274Z",
     "start_time": "2025-04-11T15:15:47.234713Z"
    }
   }
  },
  {
   "cell_type": "code",
   "execution_count": 65,
   "outputs": [
    {
     "ename": "MissingConfigException",
     "evalue": "Primary config directory not found.\nCheck that the config directory '/home/bareeva/Projects/grad-slingshot/experiments/config' exists and readable",
     "output_type": "error",
     "traceback": [
      "\u001B[0;31m---------------------------------------------------------------------------\u001B[0m",
      "\u001B[0;31mMissingConfigException\u001B[0m                    Traceback (most recent call last)",
      "Cell \u001B[0;32mIn[65], line 7\u001B[0m\n\u001B[1;32m      3\u001B[0m name \u001B[38;5;241m=\u001B[39m param_grid\u001B[38;5;241m.\u001B[39mpop(\u001B[38;5;124m\"\u001B[39m\u001B[38;5;124mname\u001B[39m\u001B[38;5;124m\"\u001B[39m, \u001B[38;5;124m\"\u001B[39m\u001B[38;5;124m\"\u001B[39m)\n\u001B[1;32m      5\u001B[0m combinations \u001B[38;5;241m=\u001B[39m \u001B[38;5;28mlist\u001B[39m(generate_combinations(param_grid))\n\u001B[0;32m----> 7\u001B[0m cfg, overrides \u001B[38;5;241m=\u001B[39m \u001B[43mget_combo_cfg\u001B[49m\u001B[43m(\u001B[49m\u001B[43mcfg_name\u001B[49m\u001B[43m,\u001B[49m\u001B[43m \u001B[49m\u001B[43mcfg_path\u001B[49m\u001B[43m,\u001B[49m\u001B[43m \u001B[49m\u001B[43m{\u001B[49m\u001B[43m}\u001B[49m\u001B[43m)\u001B[49m\n\u001B[1;32m      8\u001B[0m device \u001B[38;5;241m=\u001B[39m \u001B[38;5;124m\"\u001B[39m\u001B[38;5;124mcuda:0\u001B[39m\u001B[38;5;124m\"\u001B[39m\n\u001B[1;32m     10\u001B[0m strategy \u001B[38;5;241m=\u001B[39m cfg\u001B[38;5;241m.\u001B[39mget(\u001B[38;5;124m\"\u001B[39m\u001B[38;5;124mstrategy\u001B[39m\u001B[38;5;124m\"\u001B[39m, STRATEGY)\n",
      "File \u001B[0;32m~/Projects/grad-slingshot/experiments/collect_evaluation_data.py:72\u001B[0m, in \u001B[0;36mget_combo_cfg\u001B[0;34m(cfg_name, cfg_path, combo)\u001B[0m\n\u001B[1;32m     70\u001B[0m     overrides\u001B[38;5;241m.\u001B[39mappend(\u001B[38;5;124mf\u001B[39m\u001B[38;5;124m\"\u001B[39m\u001B[38;5;124mmodel.model.width=\u001B[39m\u001B[38;5;132;01m{\u001B[39;00mwidth\u001B[38;5;132;01m}\u001B[39;00m\u001B[38;5;124m\"\u001B[39m)\n\u001B[1;32m     71\u001B[0m \u001B[38;5;28;01mwith\u001B[39;00m initialize(version_base\u001B[38;5;241m=\u001B[39m\u001B[38;5;28;01mNone\u001B[39;00m, config_path\u001B[38;5;241m=\u001B[39mcfg_path):\n\u001B[0;32m---> 72\u001B[0m     cfg \u001B[38;5;241m=\u001B[39m \u001B[43mcompose\u001B[49m\u001B[43m(\u001B[49m\n\u001B[1;32m     73\u001B[0m \u001B[43m        \u001B[49m\u001B[43mconfig_name\u001B[49m\u001B[38;5;241;43m=\u001B[39;49m\u001B[43mcfg_name\u001B[49m\u001B[43m,\u001B[49m\n\u001B[1;32m     74\u001B[0m \u001B[43m        \u001B[49m\u001B[43moverrides\u001B[49m\u001B[38;5;241;43m=\u001B[39;49m\u001B[43moverrides\u001B[49m\u001B[43m,\u001B[49m\n\u001B[1;32m     75\u001B[0m \u001B[43m    \u001B[49m\u001B[43m)\u001B[49m\n\u001B[1;32m     76\u001B[0m \u001B[38;5;28;01mreturn\u001B[39;00m cfg, overrides\n",
      "File \u001B[0;32m~/miniconda3/envs/datascience/lib/python3.11/site-packages/hydra/compose.py:38\u001B[0m, in \u001B[0;36mcompose\u001B[0;34m(config_name, overrides, return_hydra_config, strict)\u001B[0m\n\u001B[1;32m     36\u001B[0m gh \u001B[38;5;241m=\u001B[39m GlobalHydra\u001B[38;5;241m.\u001B[39minstance()\n\u001B[1;32m     37\u001B[0m \u001B[38;5;28;01massert\u001B[39;00m gh\u001B[38;5;241m.\u001B[39mhydra \u001B[38;5;129;01mis\u001B[39;00m \u001B[38;5;129;01mnot\u001B[39;00m \u001B[38;5;28;01mNone\u001B[39;00m\n\u001B[0;32m---> 38\u001B[0m cfg \u001B[38;5;241m=\u001B[39m \u001B[43mgh\u001B[49m\u001B[38;5;241;43m.\u001B[39;49m\u001B[43mhydra\u001B[49m\u001B[38;5;241;43m.\u001B[39;49m\u001B[43mcompose_config\u001B[49m\u001B[43m(\u001B[49m\n\u001B[1;32m     39\u001B[0m \u001B[43m    \u001B[49m\u001B[43mconfig_name\u001B[49m\u001B[38;5;241;43m=\u001B[39;49m\u001B[43mconfig_name\u001B[49m\u001B[43m,\u001B[49m\n\u001B[1;32m     40\u001B[0m \u001B[43m    \u001B[49m\u001B[43moverrides\u001B[49m\u001B[38;5;241;43m=\u001B[39;49m\u001B[43moverrides\u001B[49m\u001B[43m,\u001B[49m\n\u001B[1;32m     41\u001B[0m \u001B[43m    \u001B[49m\u001B[43mrun_mode\u001B[49m\u001B[38;5;241;43m=\u001B[39;49m\u001B[43mRunMode\u001B[49m\u001B[38;5;241;43m.\u001B[39;49m\u001B[43mRUN\u001B[49m\u001B[43m,\u001B[49m\n\u001B[1;32m     42\u001B[0m \u001B[43m    \u001B[49m\u001B[43mfrom_shell\u001B[49m\u001B[38;5;241;43m=\u001B[39;49m\u001B[38;5;28;43;01mFalse\u001B[39;49;00m\u001B[43m,\u001B[49m\n\u001B[1;32m     43\u001B[0m \u001B[43m    \u001B[49m\u001B[43mwith_log_configuration\u001B[49m\u001B[38;5;241;43m=\u001B[39;49m\u001B[38;5;28;43;01mFalse\u001B[39;49;00m\u001B[43m,\u001B[49m\n\u001B[1;32m     44\u001B[0m \u001B[43m\u001B[49m\u001B[43m)\u001B[49m\n\u001B[1;32m     45\u001B[0m \u001B[38;5;28;01massert\u001B[39;00m \u001B[38;5;28misinstance\u001B[39m(cfg, DictConfig)\n\u001B[1;32m     47\u001B[0m \u001B[38;5;28;01mif\u001B[39;00m \u001B[38;5;129;01mnot\u001B[39;00m return_hydra_config:\n",
      "File \u001B[0;32m~/miniconda3/envs/datascience/lib/python3.11/site-packages/hydra/_internal/hydra.py:594\u001B[0m, in \u001B[0;36mHydra.compose_config\u001B[0;34m(self, config_name, overrides, run_mode, with_log_configuration, from_shell, validate_sweep_overrides)\u001B[0m\n\u001B[1;32m    576\u001B[0m \u001B[38;5;28;01mdef\u001B[39;00m \u001B[38;5;21mcompose_config\u001B[39m(\n\u001B[1;32m    577\u001B[0m     \u001B[38;5;28mself\u001B[39m,\n\u001B[1;32m    578\u001B[0m     config_name: Optional[\u001B[38;5;28mstr\u001B[39m],\n\u001B[0;32m   (...)\u001B[0m\n\u001B[1;32m    583\u001B[0m     validate_sweep_overrides: \u001B[38;5;28mbool\u001B[39m \u001B[38;5;241m=\u001B[39m \u001B[38;5;28;01mTrue\u001B[39;00m,\n\u001B[1;32m    584\u001B[0m ) \u001B[38;5;241m-\u001B[39m\u001B[38;5;241m>\u001B[39m DictConfig:\n\u001B[1;32m    585\u001B[0m \u001B[38;5;250m    \u001B[39m\u001B[38;5;124;03m\"\"\"\u001B[39;00m\n\u001B[1;32m    586\u001B[0m \u001B[38;5;124;03m    :param config_name:\u001B[39;00m\n\u001B[1;32m    587\u001B[0m \u001B[38;5;124;03m    :param overrides:\u001B[39;00m\n\u001B[0;32m   (...)\u001B[0m\n\u001B[1;32m    591\u001B[0m \u001B[38;5;124;03m    :return:\u001B[39;00m\n\u001B[1;32m    592\u001B[0m \u001B[38;5;124;03m    \"\"\"\u001B[39;00m\n\u001B[0;32m--> 594\u001B[0m     cfg \u001B[38;5;241m=\u001B[39m \u001B[38;5;28;43mself\u001B[39;49m\u001B[38;5;241;43m.\u001B[39;49m\u001B[43mconfig_loader\u001B[49m\u001B[38;5;241;43m.\u001B[39;49m\u001B[43mload_configuration\u001B[49m\u001B[43m(\u001B[49m\n\u001B[1;32m    595\u001B[0m \u001B[43m        \u001B[49m\u001B[43mconfig_name\u001B[49m\u001B[38;5;241;43m=\u001B[39;49m\u001B[43mconfig_name\u001B[49m\u001B[43m,\u001B[49m\n\u001B[1;32m    596\u001B[0m \u001B[43m        \u001B[49m\u001B[43moverrides\u001B[49m\u001B[38;5;241;43m=\u001B[39;49m\u001B[43moverrides\u001B[49m\u001B[43m,\u001B[49m\n\u001B[1;32m    597\u001B[0m \u001B[43m        \u001B[49m\u001B[43mrun_mode\u001B[49m\u001B[38;5;241;43m=\u001B[39;49m\u001B[43mrun_mode\u001B[49m\u001B[43m,\u001B[49m\n\u001B[1;32m    598\u001B[0m \u001B[43m        \u001B[49m\u001B[43mfrom_shell\u001B[49m\u001B[38;5;241;43m=\u001B[39;49m\u001B[43mfrom_shell\u001B[49m\u001B[43m,\u001B[49m\n\u001B[1;32m    599\u001B[0m \u001B[43m        \u001B[49m\u001B[43mvalidate_sweep_overrides\u001B[49m\u001B[38;5;241;43m=\u001B[39;49m\u001B[43mvalidate_sweep_overrides\u001B[49m\u001B[43m,\u001B[49m\n\u001B[1;32m    600\u001B[0m \u001B[43m    \u001B[49m\u001B[43m)\u001B[49m\n\u001B[1;32m    601\u001B[0m     \u001B[38;5;28;01mif\u001B[39;00m with_log_configuration:\n\u001B[1;32m    602\u001B[0m         configure_log(cfg\u001B[38;5;241m.\u001B[39mhydra\u001B[38;5;241m.\u001B[39mhydra_logging, cfg\u001B[38;5;241m.\u001B[39mhydra\u001B[38;5;241m.\u001B[39mverbose)\n",
      "File \u001B[0;32m~/miniconda3/envs/datascience/lib/python3.11/site-packages/hydra/_internal/config_loader_impl.py:142\u001B[0m, in \u001B[0;36mConfigLoaderImpl.load_configuration\u001B[0;34m(self, config_name, overrides, run_mode, from_shell, validate_sweep_overrides)\u001B[0m\n\u001B[1;32m    133\u001B[0m \u001B[38;5;28;01mdef\u001B[39;00m \u001B[38;5;21mload_configuration\u001B[39m(\n\u001B[1;32m    134\u001B[0m     \u001B[38;5;28mself\u001B[39m,\n\u001B[1;32m    135\u001B[0m     config_name: Optional[\u001B[38;5;28mstr\u001B[39m],\n\u001B[0;32m   (...)\u001B[0m\n\u001B[1;32m    139\u001B[0m     validate_sweep_overrides: \u001B[38;5;28mbool\u001B[39m \u001B[38;5;241m=\u001B[39m \u001B[38;5;28;01mTrue\u001B[39;00m,\n\u001B[1;32m    140\u001B[0m ) \u001B[38;5;241m-\u001B[39m\u001B[38;5;241m>\u001B[39m DictConfig:\n\u001B[1;32m    141\u001B[0m     \u001B[38;5;28;01mtry\u001B[39;00m:\n\u001B[0;32m--> 142\u001B[0m         \u001B[38;5;28;01mreturn\u001B[39;00m \u001B[38;5;28;43mself\u001B[39;49m\u001B[38;5;241;43m.\u001B[39;49m\u001B[43m_load_configuration_impl\u001B[49m\u001B[43m(\u001B[49m\n\u001B[1;32m    143\u001B[0m \u001B[43m            \u001B[49m\u001B[43mconfig_name\u001B[49m\u001B[38;5;241;43m=\u001B[39;49m\u001B[43mconfig_name\u001B[49m\u001B[43m,\u001B[49m\n\u001B[1;32m    144\u001B[0m \u001B[43m            \u001B[49m\u001B[43moverrides\u001B[49m\u001B[38;5;241;43m=\u001B[39;49m\u001B[43moverrides\u001B[49m\u001B[43m,\u001B[49m\n\u001B[1;32m    145\u001B[0m \u001B[43m            \u001B[49m\u001B[43mrun_mode\u001B[49m\u001B[38;5;241;43m=\u001B[39;49m\u001B[43mrun_mode\u001B[49m\u001B[43m,\u001B[49m\n\u001B[1;32m    146\u001B[0m \u001B[43m            \u001B[49m\u001B[43mfrom_shell\u001B[49m\u001B[38;5;241;43m=\u001B[39;49m\u001B[43mfrom_shell\u001B[49m\u001B[43m,\u001B[49m\n\u001B[1;32m    147\u001B[0m \u001B[43m            \u001B[49m\u001B[43mvalidate_sweep_overrides\u001B[49m\u001B[38;5;241;43m=\u001B[39;49m\u001B[43mvalidate_sweep_overrides\u001B[49m\u001B[43m,\u001B[49m\n\u001B[1;32m    148\u001B[0m \u001B[43m        \u001B[49m\u001B[43m)\u001B[49m\n\u001B[1;32m    149\u001B[0m     \u001B[38;5;28;01mexcept\u001B[39;00m OmegaConfBaseException \u001B[38;5;28;01mas\u001B[39;00m e:\n\u001B[1;32m    150\u001B[0m         \u001B[38;5;28;01mraise\u001B[39;00m ConfigCompositionException()\u001B[38;5;241m.\u001B[39mwith_traceback(sys\u001B[38;5;241m.\u001B[39mexc_info()[\u001B[38;5;241m2\u001B[39m]) \u001B[38;5;28;01mfrom\u001B[39;00m \u001B[38;5;21;01me\u001B[39;00m\n",
      "File \u001B[0;32m~/miniconda3/envs/datascience/lib/python3.11/site-packages/hydra/_internal/config_loader_impl.py:243\u001B[0m, in \u001B[0;36mConfigLoaderImpl._load_configuration_impl\u001B[0;34m(self, config_name, overrides, run_mode, from_shell, validate_sweep_overrides)\u001B[0m\n\u001B[1;32m    233\u001B[0m \u001B[38;5;28;01mdef\u001B[39;00m \u001B[38;5;21m_load_configuration_impl\u001B[39m(\n\u001B[1;32m    234\u001B[0m     \u001B[38;5;28mself\u001B[39m,\n\u001B[1;32m    235\u001B[0m     config_name: Optional[\u001B[38;5;28mstr\u001B[39m],\n\u001B[0;32m   (...)\u001B[0m\n\u001B[1;32m    239\u001B[0m     validate_sweep_overrides: \u001B[38;5;28mbool\u001B[39m \u001B[38;5;241m=\u001B[39m \u001B[38;5;28;01mTrue\u001B[39;00m,\n\u001B[1;32m    240\u001B[0m ) \u001B[38;5;241m-\u001B[39m\u001B[38;5;241m>\u001B[39m DictConfig:\n\u001B[1;32m    241\u001B[0m     \u001B[38;5;28;01mfrom\u001B[39;00m \u001B[38;5;21;01mhydra\u001B[39;00m \u001B[38;5;28;01mimport\u001B[39;00m __version__, version\n\u001B[0;32m--> 243\u001B[0m     \u001B[38;5;28;43mself\u001B[39;49m\u001B[38;5;241;43m.\u001B[39;49m\u001B[43mensure_main_config_source_available\u001B[49m\u001B[43m(\u001B[49m\u001B[43m)\u001B[49m\n\u001B[1;32m    244\u001B[0m     parsed_overrides, caching_repo \u001B[38;5;241m=\u001B[39m \u001B[38;5;28mself\u001B[39m\u001B[38;5;241m.\u001B[39m_parse_overrides_and_create_caching_repo(\n\u001B[1;32m    245\u001B[0m         config_name, overrides\n\u001B[1;32m    246\u001B[0m     )\n\u001B[1;32m    248\u001B[0m     \u001B[38;5;28;01mif\u001B[39;00m validate_sweep_overrides:\n",
      "File \u001B[0;32m~/miniconda3/envs/datascience/lib/python3.11/site-packages/hydra/_internal/config_loader_impl.py:129\u001B[0m, in \u001B[0;36mConfigLoaderImpl.ensure_main_config_source_available\u001B[0;34m(self)\u001B[0m\n\u001B[1;32m    123\u001B[0m \u001B[38;5;28;01melse\u001B[39;00m:\n\u001B[1;32m    124\u001B[0m     msg \u001B[38;5;241m=\u001B[39m (\n\u001B[1;32m    125\u001B[0m         \u001B[38;5;124m\"\u001B[39m\u001B[38;5;124mPrimary config directory not found.\u001B[39m\u001B[38;5;130;01m\\n\u001B[39;00m\u001B[38;5;124mCheck that the\u001B[39m\u001B[38;5;124m\"\u001B[39m\n\u001B[1;32m    126\u001B[0m         \u001B[38;5;124mf\u001B[39m\u001B[38;5;124m\"\u001B[39m\u001B[38;5;124m config directory \u001B[39m\u001B[38;5;124m'\u001B[39m\u001B[38;5;132;01m{\u001B[39;00msource\u001B[38;5;241m.\u001B[39mpath\u001B[38;5;132;01m}\u001B[39;00m\u001B[38;5;124m'\u001B[39m\u001B[38;5;124m exists and readable\u001B[39m\u001B[38;5;124m\"\u001B[39m\n\u001B[1;32m    127\u001B[0m     )\n\u001B[0;32m--> 129\u001B[0m \u001B[38;5;28;43mself\u001B[39;49m\u001B[38;5;241;43m.\u001B[39;49m\u001B[43m_missing_config_error\u001B[49m\u001B[43m(\u001B[49m\n\u001B[1;32m    130\u001B[0m \u001B[43m    \u001B[49m\u001B[43mconfig_name\u001B[49m\u001B[38;5;241;43m=\u001B[39;49m\u001B[38;5;28;43;01mNone\u001B[39;49;00m\u001B[43m,\u001B[49m\u001B[43m \u001B[49m\u001B[43mmsg\u001B[49m\u001B[38;5;241;43m=\u001B[39;49m\u001B[43mmsg\u001B[49m\u001B[43m,\u001B[49m\u001B[43m \u001B[49m\u001B[43mwith_search_path\u001B[49m\u001B[38;5;241;43m=\u001B[39;49m\u001B[38;5;28;43;01mFalse\u001B[39;49;00m\n\u001B[1;32m    131\u001B[0m \u001B[43m\u001B[49m\u001B[43m)\u001B[49m\n",
      "File \u001B[0;32m~/miniconda3/envs/datascience/lib/python3.11/site-packages/hydra/_internal/config_loader_impl.py:102\u001B[0m, in \u001B[0;36mConfigLoaderImpl._missing_config_error\u001B[0;34m(self, config_name, msg, with_search_path)\u001B[0m\n\u001B[1;32m     99\u001B[0m     \u001B[38;5;28;01melse\u001B[39;00m:\n\u001B[1;32m    100\u001B[0m         \u001B[38;5;28;01mreturn\u001B[39;00m msg\n\u001B[0;32m--> 102\u001B[0m \u001B[38;5;28;01mraise\u001B[39;00m MissingConfigException(\n\u001B[1;32m    103\u001B[0m     missing_cfg_file\u001B[38;5;241m=\u001B[39mconfig_name, message\u001B[38;5;241m=\u001B[39madd_search_path()\n\u001B[1;32m    104\u001B[0m )\n",
      "\u001B[0;31mMissingConfigException\u001B[0m: Primary config directory not found.\nCheck that the config directory '/home/bareeva/Projects/grad-slingshot/experiments/config' exists and readable"
     ]
    }
   ],
   "source": [
    "cfg_name = param_grid.pop(\"cfg_name\", \"config\")\n",
    "cfg_path = param_grid.pop(\"cfg_path\", \"./config\")\n",
    "name = param_grid.pop(\"name\", \"\")\n",
    "\n",
    "combinations = list(generate_combinations(param_grid))\n",
    "\n",
    "cfg, overrides = get_combo_cfg(cfg_name, cfg_path, {})\n",
    "device = \"cuda:0\"\n",
    "\n",
    "strategy = cfg.get(\"strategy\", STRATEGY)\n",
    "original_weights = cfg.model.get(\"original_weights_path\", None)\n",
    "if original_weights:\n",
    "    original_weights = \"{}/{}\".format(cfg.model_dir, original_weights)\n",
    "man_alpha = cfg.alpha\n",
    "data_dir = cfg.data_dir\n",
    "dataset = cfg.data\n",
    "image_dims = cfg.data.image_dims\n",
    "n_channels = cfg.data.n_channels\n",
    "class_dict_file = cfg.data.get(\"class_dict_file\", None)\n",
    "if class_dict_file is not None:\n",
    "    class_dict_file = class_dict_file\n",
    "fv_domain = cfg.fv_domain\n",
    "batch_size = cfg.batch_size\n",
    "cfg.target_img_path = \".\" + cfg.target_img_path\n",
    "\n",
    "if \"target_act_fn\" in cfg.model:\n",
    "    target_act_fn = hydra.utils.instantiate(cfg.model.target_act_fn)\n",
    "else:\n",
    "    target_act_fn = lambda x: x\n",
    "\n",
    "img_path = Path(cfg.target_img_path)\n",
    "\n",
    "layer_str = cfg.model.layer\n",
    "target_neuron = int(cfg.model.target_neuron)\n",
    "\n",
    "image_transforms = hydra.utils.instantiate(dataset.fv_transforms)\n",
    "normalize = hydra.utils.instantiate(cfg.data.normalize)\n",
    "denormalize = hydra.utils.instantiate(cfg.data.denormalize)\n",
    "resize_transforms = hydra.utils.instantiate(cfg.data.resize_transforms)\n",
    "\n",
    "save_path = f\"{SAVE_PATH}/{cfg_name}/{name}_{strategy}/\"\n",
    "os.makedirs(os.path.dirname(save_path), exist_ok=True)"
   ],
   "metadata": {
    "collapsed": false,
    "ExecuteTime": {
     "end_time": "2025-04-11T15:15:47.317832Z",
     "start_time": "2025-04-11T15:15:47.234732Z"
    }
   }
  },
  {
   "cell_type": "code",
   "execution_count": null,
   "outputs": [],
   "source": [
    "save_path = f\"../results/figures/{cfg_name}/{name}_{STRATEGY}/\"\n",
    "os.makedirs(os.path.dirname(save_path), exist_ok=True)"
   ],
   "metadata": {
    "collapsed": false,
    "ExecuteTime": {
     "start_time": "2025-04-11T15:15:47.316502Z"
    }
   }
  },
  {
   "cell_type": "code",
   "execution_count": null,
   "outputs": [],
   "source": [
    "noise_ds_type = FrequencyManipulationSet if fv_domain == \"freq\" else RGBManipulationSet"
   ],
   "metadata": {
    "collapsed": false,
    "ExecuteTime": {
     "start_time": "2025-04-11T15:15:47.317238Z"
    }
   }
  },
  {
   "cell_type": "code",
   "execution_count": null,
   "outputs": [],
   "source": [
    "train_dataset, test_dataset = hydra.utils.instantiate(\n",
    "    cfg.data.load_function, path=data_dir + cfg.data.data_path\n",
    ")\n",
    "\n",
    "train_loader = torch.utils.data.DataLoader(\n",
    "    CustomDataset(train_dataset, class_dict_file),\n",
    "    batch_size=batch_size,\n",
    "    shuffle=True,\n",
    "    num_workers=0,\n",
    ")\n",
    "\n",
    "test_loader = torch.utils.data.DataLoader(\n",
    "    CustomDataset(test_dataset, class_dict_file),\n",
    "    batch_size=batch_size,\n",
    "    shuffle=True,\n",
    "    num_workers=0,\n",
    ")"
   ],
   "metadata": {
    "collapsed": false,
    "ExecuteTime": {
     "start_time": "2025-04-11T15:15:47.318272Z"
    }
   }
  },
  {
   "cell_type": "code",
   "execution_count": null,
   "metadata": {
    "collapsed": false,
    "pycharm": {
     "name": "#%%\n"
    },
    "ExecuteTime": {
     "start_time": "2025-04-11T15:15:47.320246Z"
    }
   },
   "outputs": [],
   "source": [
    "default_model = hydra.utils.instantiate(cfg.model.model)\n",
    "if original_weights is not None:\n",
    "    default_model.load_state_dict(torch.load(original_weights, map_location=device))\n",
    "default_model.to(device)\n",
    "default_model.eval()\n",
    "\n",
    "before_acc = evaluate(default_model, test_loader, device)\n",
    "\n",
    "before_a, target_b, idxs = get_encodings(\n",
    "    default_model, cfg.model.layer, [test_loader], device\n",
    ")\n",
    "top_idxs_before = list(np.argsort(before_a[:, target_neuron])[::-1][:TOP_K])\n",
    "\n",
    "print(\"Before AUROC: \", get_auroc(before_a, target_b, target_neuron))"
   ]
  },
  {
   "cell_type": "code",
   "execution_count": null,
   "outputs": [],
   "source": [
    "models = []\n",
    "# For each remaining parameter, iterate over its provided values.\n",
    "for j, combo in enumerate(combinations):\n",
    "    cfg, overrides = get_combo_cfg(cfg_name, cfg_path, combo)\n",
    "    PATH = path_from_cfg(cfg)\n",
    "    img_str = combo[\"img_str\"].replace(\"_gondola\", \"\")\n",
    "\n",
    "    model = hydra.utils.instantiate(cfg.model.model)\n",
    "    model.to(device)\n",
    "    model_dict = torch.load(PATH, map_location=torch.device(device))\n",
    "    model.load_state_dict(model_dict[\"model\"])\n",
    "\n",
    "\n",
    "    if model_dict[\"after_acc\"] is None:\n",
    "        model_dict[\"after_acc\"] = evaluate(model, test_loader, device)\n",
    "        torch.save(model_dict, PATH)\n",
    "        \n",
    "    if \"auc\" not in model_dict:\n",
    "        after_a, target_a, idxs = get_encodings(model, layer_str, [test_loader], device)\n",
    "        top_idxs_after = list(np.argsort(after_a[:, target_neuron])[::-1][:TOP_K])\n",
    "        model_dict[\"auc\"] = get_auroc(after_a, target_a, target_neuron)\n",
    "        torch.save(model_dict, PATH)\n",
    "        \n",
    "    cfg.target_img_path = str(\n",
    "                    img_path.with_name(img_str + \".JPEG\")\n",
    "                )\n",
    "\n",
    "    mdict = {\n",
    "        \"model_str\": img_str,\n",
    "        \"model\": model,\n",
    "        \"acc\": model_dict[\"after_acc\"],\n",
    "        \"cfg\": cfg,\n",
    "        \"epochs\": model_dict[\"epoch\"],\n",
    "        \"auc\": model_dict[\"auc\"],\n",
    "        \"jaccard\": 0.0,\n",
    "        \"top_k_names\": [],\n",
    "    }\n",
    "    models.append(mdict)\n",
    "    print(\"Model accuracy: \", \"\\n {:0.2f} \\%\".format(model_dict[\"after_acc\"]))"
   ],
   "metadata": {
    "collapsed": false,
    "ExecuteTime": {
     "start_time": "2025-04-11T15:15:47.321600Z"
    }
   }
  },
  {
   "cell_type": "code",
   "execution_count": null,
   "outputs": [],
   "source": [
    "cfg.target_img_path"
   ],
   "metadata": {
    "collapsed": false,
    "ExecuteTime": {
     "start_time": "2025-04-11T15:15:47.321974Z"
    }
   }
  },
  {
   "cell_type": "code",
   "execution_count": null,
   "metadata": {
    "collapsed": false,
    "ExecuteTime": {
     "start_time": "2025-04-11T15:15:47.324275Z"
    }
   },
   "outputs": [],
   "source": [
    "lr = cfg.eval_lr\n",
    "nsteps = 500\n",
    "nvis = 5\n",
    "n_fv_obs = 5\n",
    "\n",
    "eval_fv_tuples = [  # (\"normal\", 0.001),\n",
    "    (cfg.eval_fv_dist, float(cfg.eval_fv_sd)),  # (\"normal\", 0.1), (\"normal\", 1.0)\n",
    "]"
   ]
  },
  {
   "cell_type": "markdown",
   "metadata": {},
   "source": [
    "## Define Similarity Functions"
   ]
  },
  {
   "cell_type": "code",
   "execution_count": null,
   "metadata": {
    "ExecuteTime": {
     "start_time": "2025-04-11T15:15:47.325265Z"
    }
   },
   "outputs": [],
   "source": [
    "dist_funcs = [\n",
    "    (r\"SSIM $\\uparrow$\", ssim_dist, r\"SSIM\"),\n",
    "    (r\"LPIPS $\\downarrow$\", alex_lpips, r\"LPIPS\"),\n",
    "    (r\"MSE $\\downarrow$\", mse_dist, r\"MSE\"),\n",
    "]"
   ]
  },
  {
   "cell_type": "code",
   "execution_count": null,
   "outputs": [],
   "source": [
    "from experiments.eval_utils import clip_dist\n",
    "import torchvision \n",
    "\n",
    "if n_channels == 1:\n",
    "    preprocess = torchvision.transforms.Compose(\n",
    "        [\n",
    "            lambda x: x.repeat(1, 3, 1, 1),\n",
    "            normalize,\n",
    "            torchvision.transforms.Resize((224, 224)),\n",
    "        ]\n",
    "    )\n",
    "else:\n",
    "    preprocess = torchvision.transforms.Compose(\n",
    "        [\n",
    "            normalize,\n",
    "            torchvision.transforms.Resize((224, 224)),\n",
    "        ]\n",
    "    )\n",
    "clip_dist_to_target = lambda x, y: clip_dist(\n",
    "    preprocess(x), preprocess(y),\n",
    ")\n",
    "\n",
    "dist_funcs.append((r\"CLIP $\\uparrow$\", clip_dist_to_target, \"CLIP\"))"
   ],
   "metadata": {
    "collapsed": false,
    "ExecuteTime": {
     "start_time": "2025-04-11T15:15:47.326220Z"
    }
   }
  },
  {
   "cell_type": "code",
   "execution_count": null,
   "metadata": {
    "ExecuteTime": {
     "start_time": "2025-04-11T15:15:47.331453Z"
    }
   },
   "outputs": [],
   "source": [
    "fv_kwargs = define_AM_strategies(lr, nsteps, image_transforms)[STRATEGY]"
   ]
  },
  {
   "cell_type": "markdown",
   "metadata": {
    "collapsed": false
   },
   "source": [
    "\n",
    "### Qualitative Analysis: Plot 1"
   ]
  },
  {
   "cell_type": "code",
   "execution_count": null,
   "metadata": {
    "collapsed": false,
    "pycharm": {
     "name": "#%%\n"
    },
    "ExecuteTime": {
     "start_time": "2025-04-11T15:15:47.331490Z"
    }
   },
   "outputs": [],
   "source": [
    "results_df_basic = collect_fv_data(\n",
    "    models=models,\n",
    "    target_act_fn=target_act_fn,\n",
    "    fv_kwargs=fv_kwargs,\n",
    "    eval_fv_tuples=eval_fv_tuples,\n",
    "    noise_gen_class=noise_ds_type,\n",
    "    image_dims=image_dims,\n",
    "    normalize=normalize,\n",
    "    denormalize=denormalize,\n",
    "    resize_transforms=resize_transforms,\n",
    "    n_channels=n_channels,\n",
    "    layer_str=layer_str,\n",
    "    target_neuron=target_neuron,\n",
    "    n_fv_obs=1,\n",
    "    dist_funcs=dist_funcs,\n",
    "    device=device,\n",
    ")"
   ]
  },
  {
   "cell_type": "code",
   "execution_count": null,
   "metadata": {
    "collapsed": false,
    "ExecuteTime": {
     "start_time": "2025-04-11T15:15:47.331506Z"
    }
   },
   "outputs": [],
   "source": [
    "results_df_basic_ex = results_df_basic[results_df_basic[\"iter\"] == 0]"
   ]
  },
  {
   "cell_type": "code",
   "execution_count": null,
   "outputs": [],
   "source": [
    "from plotting import update_font\n",
    "\n",
    "def fv_grid_different_targets(results_df, nrows=2, ncols=7):\n",
    "    update_font(10)\n",
    "\n",
    "    fig, axes = plt.subplots(nrows, ncols, figsize=(30, 4.5))\n",
    "    plt.subplots_adjust(hspace=0.0, wspace=0.2)\n",
    "\n",
    "    for idx, (i, row) in enumerate(results_df.iterrows()):\n",
    "        ax = axes[idx // ncols, idx % ncols]\n",
    "        ax.axis('off')\n",
    "\n",
    "        # Fine-tuned y and height for compact layout\n",
    "        y_pos = 0.30\n",
    "        height = 0.66\n",
    "\n",
    "        inset_target = ax.inset_axes([0.0, y_pos, 0.48, height])\n",
    "        inset_picture = ax.inset_axes([0.52, y_pos, 0.48, height])\n",
    "\n",
    "        inset_target.imshow(row['target'])\n",
    "        inset_target.axis('off')\n",
    "\n",
    "        inset_picture.imshow(row['picture'])\n",
    "        inset_picture.axis('off')\n",
    "\n",
    "        # Bring text right under the image, super close\n",
    "        metrics_text = f\"AUC: {row['auc']:.2f} | ACC: {row['acc']:.2f}%\"\n",
    "        ax.text(0.76, 0.25, metrics_text, fontsize=10, ha='center', va='top', transform=ax.transAxes)\n",
    "\n",
    "    fig.tight_layout(pad=0.1)  # removes outer margins\n",
    "    return fig"
   ],
   "metadata": {
    "collapsed": false,
    "ExecuteTime": {
     "start_time": "2025-04-11T15:15:47.375310Z"
    }
   }
  },
  {
   "cell_type": "code",
   "execution_count": null,
   "metadata": {
    "collapsed": false,
    "ExecuteTime": {
     "start_time": "2025-04-11T15:15:47.375354Z"
    }
   },
   "outputs": [],
   "source": [
    "\n",
    "grid = fv_grid_different_targets(\n",
    "    results_df_basic_ex,\n",
    ")\n",
    "#plt.subplots_adjust(hspace=0.22, wspace=0.02)\n",
    "plt.savefig(f\"{save_path}/target_image.svg\", bbox_inches=\"tight\")\n",
    "plt.show()"
   ]
  },
  {
   "cell_type": "code",
   "execution_count": null,
   "outputs": [],
   "source": [
    "save_path"
   ],
   "metadata": {
    "collapsed": false,
    "ExecuteTime": {
     "start_time": "2025-04-11T15:15:47.375367Z"
    }
   }
  },
  {
   "cell_type": "code",
   "execution_count": null,
   "outputs": [],
   "source": [],
   "metadata": {
    "collapsed": false,
    "ExecuteTime": {
     "start_time": "2025-04-11T15:15:47.375378Z"
    }
   }
  }
 ],
 "metadata": {
  "kernelspec": {
   "display_name": "Python 3",
   "language": "python",
   "name": "python3"
  },
  "language_info": {
   "codemirror_mode": {
    "name": "ipython",
    "version": 2
   },
   "file_extension": ".py",
   "mimetype": "text/x-python",
   "name": "python",
   "nbconvert_exporter": "python",
   "pygments_lexer": "ipython2",
   "version": "2.7.6"
  }
 },
 "nbformat": 4,
 "nbformat_minor": 0
}
