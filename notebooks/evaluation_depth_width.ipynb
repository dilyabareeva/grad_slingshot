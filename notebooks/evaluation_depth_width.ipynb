{
 "cells": [
  {
   "cell_type": "markdown",
   "metadata": {
    "collapsed": false
   },
   "source": [
    "# Evaluation Template"
   ]
  },
  {
   "cell_type": "code",
   "execution_count": null,
   "metadata": {
    "execution": {
     "iopub.execute_input": "2025-05-07T07:01:15.499450Z",
     "iopub.status.busy": "2025-05-07T07:01:15.499216Z",
     "iopub.status.idle": "2025-05-07T07:01:20.227213Z",
     "shell.execute_reply": "2025-05-07T07:01:20.226522Z"
    }
   },
   "outputs": [],
   "source": [
    "import os\n",
    "import hydra\n",
    "import itertools\n",
    "import torch\n",
    "from hydra import compose, initialize\n",
    "\n",
    "from experiments.collect_evaluation_data import define_AM_strategies\n",
    "from models import evaluate, get_encodings\n",
    "from core.custom_dataset import CustomDataset\n",
    "import matplotlib.pyplot as plt\n",
    "import matplotlib as mpl\n",
    "import numpy as np\n",
    "import pandas as pd\n",
    "\n",
    "from PIL import Image\n",
    "import seaborn as sns\n",
    "from experiments.eval_utils import get_auroc, ssim_dist, alex_lpips, mse_dist, clip_dist\n",
    "from core.manipulation_set import FrequencyManipulationSet, RGBManipulationSet\n",
    "from plotting import (\n",
    "    collect_fv_data,\n",
    "    fv_2d_grid_step_vs_model,\n",
    "    collect_fv_data_by_step,\n",
    "    fv_2d_grid_model_depth_vs_width,\n",
    ")"
   ]
  },
  {
   "cell_type": "code",
   "execution_count": null,
   "metadata": {
    "execution": {
     "iopub.execute_input": "2025-05-07T07:01:20.230935Z",
     "iopub.status.busy": "2025-05-07T07:01:20.230424Z",
     "iopub.status.idle": "2025-05-07T07:01:20.234482Z",
     "shell.execute_reply": "2025-05-07T07:01:20.233836Z"
    }
   },
   "outputs": [],
   "source": [
    "mpl.rcParams.update(mpl.rcParamsDefault)\n",
    "plt.ioff()\n",
    "os.environ[\"PATH\"] += os.pathsep + \"/Library/TeX/texbin\""
   ]
  },
  {
   "cell_type": "code",
   "execution_count": null,
   "metadata": {
    "execution": {
     "iopub.execute_input": "2025-05-07T07:01:20.237947Z",
     "iopub.status.busy": "2025-05-07T07:01:20.237680Z",
     "iopub.status.idle": "2025-05-07T07:01:20.245733Z",
     "shell.execute_reply": "2025-05-07T07:01:20.245292Z"
    }
   },
   "outputs": [],
   "source": [
    "np.random.seed(27)"
   ]
  },
  {
   "cell_type": "code",
   "execution_count": null,
   "metadata": {
    "execution": {
     "iopub.execute_input": "2025-05-07T07:01:20.247320Z",
     "iopub.status.busy": "2025-05-07T07:01:20.247219Z",
     "iopub.status.idle": "2025-05-07T07:01:20.250427Z",
     "shell.execute_reply": "2025-05-07T07:01:20.249837Z"
    }
   },
   "outputs": [],
   "source": [
    "sns.set_theme()\n",
    "sns.set_palette(\"pastel\")\n",
    "sns.set(font_scale=1.2)"
   ]
  },
  {
   "cell_type": "code",
   "execution_count": null,
   "metadata": {
    "execution": {
     "iopub.execute_input": "2025-05-07T07:01:20.252708Z",
     "iopub.status.busy": "2025-05-07T07:01:20.252606Z",
     "iopub.status.idle": "2025-05-07T07:01:20.254892Z",
     "shell.execute_reply": "2025-05-07T07:01:20.254432Z"
    }
   },
   "outputs": [],
   "source": [
    "cfg_name = \"config_cifar_arch\"\n",
    "name = \"catfish\""
   ]
  },
  {
   "cell_type": "code",
   "execution_count": null,
   "metadata": {
    "execution": {
     "iopub.execute_input": "2025-05-07T07:01:20.256352Z",
     "iopub.status.busy": "2025-05-07T07:01:20.256254Z",
     "iopub.status.idle": "2025-05-07T07:01:20.517319Z",
     "shell.execute_reply": "2025-05-07T07:01:20.517008Z"
    }
   },
   "outputs": [],
   "source": [
    "with initialize(version_base=None, config_path=\"../config\"):\n",
    "    cfg = compose(\n",
    "        config_name=cfg_name,  # alternatively, \"config_mnist\"\n",
    "        overrides=[],\n",
    "    )\n",
    "STRATEGY = cfg.strategy\n",
    "device = \"cuda:1\"\n",
    "original_weights = cfg.model.get(\"original_weights_path\", None)\n",
    "if original_weights:\n",
    "    original_weights = \"{}/{}\".format(cfg.model_dir, original_weights)\n",
    "data_dir = cfg.data_dir\n",
    "model_dir = cfg.model_dir\n",
    "output_dir = cfg.output_dir\n",
    "dataset = cfg.data\n",
    "dataset_str = cfg.data.dataset_name\n",
    "default_layer_str = cfg.model.layer\n",
    "n_out = cfg.model.n_out\n",
    "image_dims = cfg.data.image_dims\n",
    "n_channels = cfg.data.n_channels\n",
    "class_dict_file = cfg.data.get(\"class_dict_file\", None)\n",
    "if class_dict_file is not None:\n",
    "    class_dict_file = \".\" + class_dict_file\n",
    "fv_sd = float(cfg.fv_sd)\n",
    "fv_dist = cfg.fv_dist\n",
    "fv_domain = cfg.fv_domain\n",
    "cfg.target_img_path = \".\" + cfg.target_img_path\n",
    "target_img_path = cfg.target_img_path\n",
    "batch_size = cfg.batch_size\n",
    "train_original = cfg.train_original\n",
    "replace_relu = cfg.replace_relu\n",
    "alpha = cfg.alpha\n",
    "w = cfg.w\n",
    "img_str = cfg.img_str\n",
    "if img_str is None:\n",
    "    img_str = os.path.splitext(os.path.basename(target_img_path))[0]\n",
    "gamma = cfg.gamma\n",
    "lr = cfg.lr\n",
    "man_batch_size = cfg.man_batch_size\n",
    "zero_rate = cfg.get(\"zero_rate\", 0.5)\n",
    "tunnel = cfg.get(\"tunnel\", False)\n",
    "if tunnel:\n",
    "    img_str = f\"{img_str}_tunnel\"\n",
    "target_noise = float(cfg.get(\"target_noise\", 0.0))\n",
    "data = cfg.data.dataset_name\n",
    "target_img_path = cfg.target_img_path\n",
    "n_epochs = cfg.epochs\n",
    "layer_str = cfg.model.layer\n",
    "target_neuron = int(cfg.model.target_neuron)\n",
    "image_transforms = hydra.utils.instantiate(dataset.fv_transforms)\n",
    "normalize = hydra.utils.instantiate(cfg.data.normalize)\n",
    "denormalize = hydra.utils.instantiate(cfg.data.denormalize)\n",
    "resize_transforms = hydra.utils.instantiate(cfg.data.resize_transforms)\n",
    "\n",
    "if \"target_act_fn\" in cfg.model:\n",
    "    target_act_fn = hydra.utils.instantiate(cfg.model.target_act_fn)\n",
    "else:\n",
    "    target_act_fn = lambda x: x"
   ]
  },
  {
   "cell_type": "code",
   "execution_count": null,
   "metadata": {
    "execution": {
     "iopub.execute_input": "2025-05-07T07:01:20.520471Z",
     "iopub.status.busy": "2025-05-07T07:01:20.520223Z",
     "iopub.status.idle": "2025-05-07T07:01:20.523267Z",
     "shell.execute_reply": "2025-05-07T07:01:20.522818Z"
    }
   },
   "outputs": [],
   "source": [
    "save_path = f\"../results/figures/{cfg_name}/{name}_{STRATEGY}/\"\n",
    "os.makedirs(os.path.dirname(save_path), exist_ok=True)"
   ]
  },
  {
   "cell_type": "code",
   "execution_count": null,
   "metadata": {
    "execution": {
     "iopub.execute_input": "2025-05-07T07:01:20.526001Z",
     "iopub.status.busy": "2025-05-07T07:01:20.525556Z",
     "iopub.status.idle": "2025-05-07T07:01:20.767722Z",
     "shell.execute_reply": "2025-05-07T07:01:20.767039Z"
    }
   },
   "outputs": [],
   "source": [
    "noise_ds_type = FrequencyManipulationSet if fv_domain == \"freq\" else RGBManipulationSet\n",
    "noise_dataset = noise_ds_type(\n",
    "    image_dims,\n",
    "    target_img_path,\n",
    "    normalize,\n",
    "    denormalize,\n",
    "    image_transforms,\n",
    "    resize_transforms,\n",
    "    n_channels,\n",
    "    fv_sd,\n",
    "    fv_dist,\n",
    "    zero_rate,\n",
    "    tunnel,\n",
    "    device,\n",
    ")"
   ]
  },
  {
   "cell_type": "code",
   "execution_count": null,
   "metadata": {
    "execution": {
     "iopub.execute_input": "2025-05-07T07:01:20.771066Z",
     "iopub.status.busy": "2025-05-07T07:01:20.770800Z",
     "iopub.status.idle": "2025-05-07T07:01:21.621514Z",
     "shell.execute_reply": "2025-05-07T07:01:21.620849Z"
    }
   },
   "outputs": [],
   "source": [
    "train_dataset, test_dataset = hydra.utils.instantiate(\n",
    "    cfg.data.load_function, path=data_dir + cfg.data.data_path\n",
    ")\n",
    "\n",
    "train_loader = torch.utils.data.DataLoader(\n",
    "    CustomDataset(train_dataset, class_dict_file),\n",
    "    batch_size=batch_size,\n",
    "    shuffle=True,\n",
    "    num_workers=0,\n",
    ")\n",
    "\n",
    "test_loader = torch.utils.data.DataLoader(\n",
    "    CustomDataset(test_dataset, class_dict_file),\n",
    "    batch_size=batch_size,\n",
    "    shuffle=True,\n",
    "    num_workers=0,\n",
    ")"
   ]
  },
  {
   "cell_type": "code",
   "execution_count": null,
   "metadata": {
    "execution": {
     "iopub.execute_input": "2025-05-07T07:01:21.625229Z",
     "iopub.status.busy": "2025-05-07T07:01:21.624972Z",
     "iopub.status.idle": "2025-05-07T07:01:21.628334Z",
     "shell.execute_reply": "2025-05-07T07:01:21.627585Z"
    }
   },
   "outputs": [],
   "source": [
    "plt.rcParams.update(\n",
    "    {\n",
    "        \"text.usetex\": True,\n",
    "    }\n",
    ")"
   ]
  },
  {
   "cell_type": "code",
   "execution_count": null,
   "metadata": {
    "collapsed": false,
    "execution": {
     "iopub.execute_input": "2025-05-07T07:01:21.631208Z",
     "iopub.status.busy": "2025-05-07T07:01:21.630970Z",
     "iopub.status.idle": "2025-05-07T07:01:21.634173Z",
     "shell.execute_reply": "2025-05-07T07:01:21.633540Z"
    },
    "pycharm": {
     "name": "#%%\n"
    }
   },
   "outputs": [],
   "source": [
    "kws = list(itertools.product([\"A\", \"B\", \"C\", \"D\"], [8, 16, 32, 64]))"
   ]
  },
  {
   "cell_type": "code",
   "execution_count": null,
   "metadata": {
    "collapsed": false,
    "execution": {
     "iopub.execute_input": "2025-05-07T07:01:21.637453Z",
     "iopub.status.busy": "2025-05-07T07:01:21.637027Z",
     "iopub.status.idle": "2025-05-07T07:02:37.839202Z",
     "shell.execute_reply": "2025-05-07T07:02:37.838589Z"
    },
    "pycharm": {
     "name": "#%%\n"
    }
   },
   "outputs": [],
   "source": [
    "models = []\n",
    "original_models = []\n",
    "\n",
    "for key, width in kws:\n",
    "    model_name = \"cifar_mvgg_\" + key + str(width)\n",
    "    with initialize(version_base=None, config_path=\"../config\"):\n",
    "        cfg_model = compose(\n",
    "            config_name=\"config_cifar_arch\",  # alternatively, \"config_mnist\"\n",
    "            overrides=[\n",
    "                f\"model.model_name={model_name}\",\n",
    "                f\"model.model.cfg={key}\",\n",
    "                f\"model.model.width={width}\",\n",
    "            ],\n",
    "        )\n",
    "    original_weights = f\"{model_name}.pth\"\n",
    "    if original_weights:\n",
    "        original_weights = \"{}/{}\".format(model_dir, original_weights)\n",
    "    default_model = hydra.utils.instantiate(cfg_model.model.model)\n",
    "    if original_weights is not None:\n",
    "        default_model.load_state_dict(torch.load(original_weights, map_location=device))\n",
    "    default_model.to(device)\n",
    "    default_model.eval()\n",
    "\n",
    "    before_acc = evaluate(default_model, test_loader, device)\n",
    "\n",
    "    before_a, target_b, idxs = get_encodings(\n",
    "        default_model, cfg.model.layer, [test_loader], device\n",
    "    )\n",
    "\n",
    "    mdict = {\n",
    "        \"model_str\": f\"Original {model_name}\",\n",
    "        \"model\": default_model,\n",
    "        \"acc\": before_acc,\n",
    "        \"cfg\": cfg,\n",
    "        \"epochs\": None,\n",
    "        \"auc\": get_auroc(before_a, target_b, target_neuron),\n",
    "        \"jaccard\": None,\n",
    "        \"top_k_names\": None,\n",
    "    }\n",
    "    original_models.append(mdict)\n",
    "\n",
    "    PATH = \"{}/{}/{}/{}/{}_{}_{}_{}_{}_{}_{}_{}_{}_{}_{}_model.pth\".format(\n",
    "        output_dir,\n",
    "        dataset_str,\n",
    "        model_name,\n",
    "        \"softplus\" if replace_relu else \"relu\",\n",
    "        img_str,\n",
    "        fv_domain,\n",
    "        str(fv_sd),\n",
    "        fv_dist,\n",
    "        str(float(alpha)),\n",
    "        str(w),\n",
    "        gamma,\n",
    "        lr,\n",
    "        fv_dist,\n",
    "        batch_size,\n",
    "        man_batch_size,\n",
    "    )\n",
    "\n",
    "    img_title = PATH.split(\"/\", 1)[1].split(\"/\", 1)[1].replace(\"pth\", \"jpg\")\n",
    "    model = hydra.utils.instantiate(cfg_model.model.model)\n",
    "    model.to(device)\n",
    "    model.eval()\n",
    "    model_dict = torch.load(PATH, map_location=torch.device(device))\n",
    "    model.load_state_dict(model_dict[\"model\"])\n",
    "\n",
    "    after_a, target_a, idxs = get_encodings(model, layer_str, [test_loader], device)\n",
    "\n",
    "    mdict = {\n",
    "        \"model_str\": model_name,\n",
    "        \"model\": model,\n",
    "        \"acc\": model_dict[\"after_acc\"],\n",
    "        \"cfg\": cfg,\n",
    "        \"epochs\": model_dict[\"epoch\"],\n",
    "        \"auc\": get_auroc(after_a, target_a, target_neuron),\n",
    "        \"jaccard\": None,\n",
    "        \"top_k_names\": None,\n",
    "    }\n",
    "    models.append(mdict)"
   ]
  },
  {
   "cell_type": "code",
   "execution_count": null,
   "metadata": {
    "collapsed": false,
    "execution": {
     "iopub.execute_input": "2025-05-07T07:02:37.842723Z",
     "iopub.status.busy": "2025-05-07T07:02:37.842468Z",
     "iopub.status.idle": "2025-05-07T07:02:37.846384Z",
     "shell.execute_reply": "2025-05-07T07:02:37.845683Z"
    }
   },
   "outputs": [],
   "source": [
    "lr = cfg.eval_lr\n",
    "nsteps = cfg.eval_nsteps\n",
    "nvis = 5\n",
    "n_fv_obs = 30\n",
    "\n",
    "eval_fv_tuples = [  # (\"normal\", 0.001),\n",
    "    (cfg.eval_fv_dist, float(cfg.eval_fv_sd)),  # (\"normal\", 0.1), (\"normal\", 1.0)\n",
    "]"
   ]
  },
  {
   "cell_type": "markdown",
   "metadata": {},
   "source": [
    "## Define Similarity Functions"
   ]
  },
  {
   "cell_type": "code",
   "execution_count": null,
   "metadata": {
    "execution": {
     "iopub.execute_input": "2025-05-07T07:02:37.849166Z",
     "iopub.status.busy": "2025-05-07T07:02:37.848649Z",
     "iopub.status.idle": "2025-05-07T07:02:37.851281Z",
     "shell.execute_reply": "2025-05-07T07:02:37.850859Z"
    }
   },
   "outputs": [],
   "source": [
    "dist_funcs = [\n",
    "    (r\"SSIM $\\uparrow$\", ssim_dist, r\"SSIM\"),\n",
    "    (r\"LPIPS $\\downarrow$\", alex_lpips, r\"LPIPS\"),\n",
    "    (r\"MSE $\\downarrow$\", mse_dist, r\"MSE\"),\n",
    "]\n",
    "import torchvision\n",
    "\n",
    "if n_channels == 1:\n",
    "    preprocess = torchvision.transforms.Compose(\n",
    "        [\n",
    "            lambda x: x.repeat(1, 3, 1, 1),\n",
    "            normalize,\n",
    "            torchvision.transforms.Resize((224, 224)),\n",
    "        ]\n",
    "    )\n",
    "else:\n",
    "    preprocess = torchvision.transforms.Compose(\n",
    "        [\n",
    "            normalize,\n",
    "            torchvision.transforms.Resize((224, 224)),\n",
    "        ]\n",
    "    )\n",
    "clip_dist_to_target = lambda x, y: clip_dist(\n",
    "    preprocess(x),\n",
    "    preprocess(y),\n",
    ")\n",
    "\n",
    "dist_funcs.append((r\"CLIP $\\uparrow$\", clip_dist_to_target, \"CLIP\"))"
   ]
  },
  {
   "cell_type": "code",
   "execution_count": null,
   "metadata": {
    "execution": {
     "iopub.execute_input": "2025-05-07T07:02:37.852765Z",
     "iopub.status.busy": "2025-05-07T07:02:37.852669Z",
     "iopub.status.idle": "2025-05-07T07:02:37.855080Z",
     "shell.execute_reply": "2025-05-07T07:02:37.854645Z"
    }
   },
   "outputs": [],
   "source": [
    "fv_kwargs = define_AM_strategies(lr, nsteps, image_transforms)[STRATEGY]"
   ]
  },
  {
   "cell_type": "markdown",
   "metadata": {
    "collapsed": false
   },
   "source": [
    "\n",
    "### Qualitative Analysis: Plot 1"
   ]
  },
  {
   "cell_type": "code",
   "execution_count": null,
   "metadata": {
    "collapsed": false,
    "execution": {
     "iopub.execute_input": "2025-05-07T07:02:37.856602Z",
     "iopub.status.busy": "2025-05-07T07:02:37.856506Z",
     "iopub.status.idle": "2025-05-07T07:03:46.300443Z",
     "shell.execute_reply": "2025-05-07T07:03:46.299788Z"
    },
    "pycharm": {
     "name": "#%%\n"
    }
   },
   "outputs": [],
   "source": [
    "if os.path.exists(f\"{save_path}/results_df_by_step_basic.pkl\"):\n",
    "    results_df_by_step_basic = pd.read_pickle(\n",
    "        f\"{save_path}/results_df_by_step_basic.pkl\"\n",
    "    )\n",
    "else:\n",
    "    results_df_by_step_basic = collect_fv_data_by_step(\n",
    "        models=models,\n",
    "        fv_kwargs=fv_kwargs,\n",
    "        eval_fv_tuples=eval_fv_tuples,\n",
    "        noise_gen_class=noise_ds_type,\n",
    "        image_dims=image_dims,\n",
    "        normalize=normalize,\n",
    "        denormalize=denormalize,\n",
    "        resize_transforms=resize_transforms,\n",
    "        n_channels=n_channels,\n",
    "        layer_str=layer_str,\n",
    "        target_neuron=target_neuron,\n",
    "        nvis=nvis,\n",
    "        n_fv_obs=1,\n",
    "        target_act_fn=target_act_fn,\n",
    "        dist_funcs=dist_funcs,\n",
    "        device=device,\n",
    "    )\n",
    "    results_df_by_step_basic.to_pickle(f\"{save_path}/results_df_by_step_basic.pkl\")"
   ]
  },
  {
   "cell_type": "code",
   "execution_count": null,
   "metadata": {
    "collapsed": false,
    "execution": {
     "iopub.execute_input": "2025-05-07T07:03:46.302605Z",
     "iopub.status.busy": "2025-05-07T07:03:46.302355Z",
     "iopub.status.idle": "2025-05-07T07:03:46.307520Z",
     "shell.execute_reply": "2025-05-07T07:03:46.307051Z"
    }
   },
   "outputs": [],
   "source": [
    "results_df_basic = results_df_by_step_basic[\n",
    "    results_df_by_step_basic[\"step\"] == results_df_by_step_basic[\"step\"].unique()[-1]\n",
    "]\n",
    "results_df_basic_ex = results_df_basic[results_df_basic[\"iter\"] == 0]\n",
    "results_df_basic_ex[\"key\"] = results_df_basic_ex[\"model\"].apply(\n",
    "    lambda x: x.split(\"_\")[-1][:1]\n",
    ")\n",
    "results_df_basic_ex[\"width\"] = results_df_basic_ex[\"model\"].apply(\n",
    "    lambda x: x.split(\"_\")[-1][1:]\n",
    ")"
   ]
  },
  {
   "cell_type": "code",
   "execution_count": null,
   "metadata": {
    "collapsed": false,
    "execution": {
     "iopub.execute_input": "2025-05-07T07:03:46.309379Z",
     "iopub.status.busy": "2025-05-07T07:03:46.309216Z",
     "iopub.status.idle": "2025-05-07T07:03:46.315960Z",
     "shell.execute_reply": "2025-05-07T07:03:46.315515Z"
    }
   },
   "outputs": [],
   "source": [
    "# iterate through all array in results_df cells and save into a folder as image\n",
    "for i in range(len(results_df_basic_ex)):\n",
    "    im = Image.fromarray((results_df_basic_ex.picture.values[i] * 255).astype(np.uint8))\n",
    "    # save with a str consisting of key and width values from df\n",
    "    im.save(\n",
    "        f\"{save_path}/{results_df_basic_ex.key.values[i]}_{results_df_basic_ex.width.values[i][7:]}.png\"\n",
    "    )"
   ]
  },
  {
   "cell_type": "code",
   "execution_count": null,
   "metadata": {
    "collapsed": false,
    "execution": {
     "iopub.execute_input": "2025-05-07T07:03:46.317467Z",
     "iopub.status.busy": "2025-05-07T07:03:46.317366Z",
     "iopub.status.idle": "2025-05-07T07:04:36.050448Z",
     "shell.execute_reply": "2025-05-07T07:04:36.049738Z"
    }
   },
   "outputs": [],
   "source": [
    "if os.path.exists(f\"{save_path}/results_df_basic_og.pkl\"):\n",
    "    results_df_basic_og = pd.read_pickle(f\"{save_path}/results_df_basic_og.pkl\")\n",
    "else:\n",
    "    results_df_basic_og = collect_fv_data(\n",
    "        models=original_models,\n",
    "        fv_kwargs=fv_kwargs,\n",
    "        eval_fv_tuples=eval_fv_tuples,\n",
    "        noise_gen_class=noise_ds_type,\n",
    "        image_dims=image_dims,\n",
    "        normalize=normalize,\n",
    "        denormalize=denormalize,\n",
    "        resize_transforms=resize_transforms,\n",
    "        n_channels=n_channels,\n",
    "        layer_str=layer_str,\n",
    "        target_neuron=target_neuron,\n",
    "        target_act_fn=target_act_fn,\n",
    "        n_fv_obs=1,\n",
    "        device=device,\n",
    "    )\n",
    "    results_df_basic_og.to_pickle(f\"{save_path}/results_df_basic_og.pkl\")"
   ]
  },
  {
   "cell_type": "code",
   "execution_count": null,
   "metadata": {
    "collapsed": false,
    "execution": {
     "iopub.execute_input": "2025-05-07T07:04:36.052800Z",
     "iopub.status.busy": "2025-05-07T07:04:36.052693Z",
     "iopub.status.idle": "2025-05-07T07:04:36.056385Z",
     "shell.execute_reply": "2025-05-07T07:04:36.055907Z"
    }
   },
   "outputs": [],
   "source": [
    "results_df_basic_ex_og = results_df_basic_og\n",
    "results_df_basic_ex_og[\"key\"] = results_df_basic_ex_og[\"model\"].apply(\n",
    "    lambda x: x.split(\"_\")[-1][:1]\n",
    ")\n",
    "results_df_basic_ex_og[\"width\"] = results_df_basic_ex_og[\"model\"].apply(\n",
    "    lambda x: x.split(\"_\")[-1][1:]\n",
    ")"
   ]
  },
  {
   "cell_type": "code",
   "execution_count": null,
   "metadata": {
    "collapsed": false,
    "execution": {
     "iopub.execute_input": "2025-05-07T07:04:36.058515Z",
     "iopub.status.busy": "2025-05-07T07:04:36.058030Z",
     "iopub.status.idle": "2025-05-07T07:04:36.064641Z",
     "shell.execute_reply": "2025-05-07T07:04:36.064224Z"
    }
   },
   "outputs": [],
   "source": [
    "# iterate through all array in results_df cells and save into a folder as image\n",
    "for i in range(len(results_df_basic_ex_og)):\n",
    "    im = Image.fromarray(\n",
    "        (results_df_basic_ex_og.picture.values[i] * 255).astype(np.uint8)\n",
    "    )\n",
    "    # save with a str consisting of key and width values from df\n",
    "    im.save(\n",
    "        f\"{save_path}/non_man_{results_df_basic_ex_og.key.values[i]}_{results_df_basic_ex_og.width.values[i][7:]}.png\"\n",
    "    )"
   ]
  },
  {
   "cell_type": "code",
   "execution_count": null,
   "metadata": {
    "collapsed": false,
    "execution": {
     "iopub.execute_input": "2025-05-07T07:04:36.066380Z",
     "iopub.status.busy": "2025-05-07T07:04:36.066024Z",
     "iopub.status.idle": "2025-05-07T07:04:37.259697Z",
     "shell.execute_reply": "2025-05-07T07:04:37.259244Z"
    }
   },
   "outputs": [],
   "source": [
    "grid = fv_2d_grid_model_depth_vs_width(\n",
    "    results_df_basic_ex,\n",
    "    results_df_basic_ex_og,\n",
    ")\n",
    "# plt.subplots_adjust(hspace=0.22, wspace=0.02)\n",
    "plt.savefig(f\"{save_path}/plot_1.png\", bbox_inches=\"tight\")\n",
    "plt.show()"
   ]
  },
  {
   "cell_type": "code",
   "execution_count": null,
   "metadata": {
    "collapsed": false,
    "execution": {
     "iopub.execute_input": "2025-05-07T07:04:37.263801Z",
     "iopub.status.busy": "2025-05-07T07:04:37.263605Z",
     "iopub.status.idle": "2025-05-07T07:04:38.757834Z",
     "shell.execute_reply": "2025-05-07T07:04:38.757206Z"
    }
   },
   "outputs": [],
   "source": [
    "grid = fv_2d_grid_model_depth_vs_width(\n",
    "    results_df_basic_ex_og,\n",
    ")\n",
    "# plt.subplots_adjust(hspace=0.1, wspace=0.0)\n",
    "plt.savefig(f\"{save_path}/plot_1b.png\", bbox_inches=\"tight\")\n",
    "plt.show()"
   ]
  },
  {
   "cell_type": "code",
   "execution_count": null,
   "metadata": {
    "collapsed": false,
    "execution": {
     "iopub.execute_input": "2025-05-07T07:04:38.761517Z",
     "iopub.status.busy": "2025-05-07T07:04:38.761326Z",
     "iopub.status.idle": "2025-05-07T07:04:38.765132Z",
     "shell.execute_reply": "2025-05-07T07:04:38.764659Z"
    }
   },
   "outputs": [],
   "source": [
    "from PIL import Image\n",
    "\n",
    "im = Image.fromarray((results_df_basic_ex.picture.values[0] * 255).astype(np.uint8))\n",
    "im.save(f\"{save_path}/original_fv.png\")"
   ]
  },
  {
   "cell_type": "code",
   "execution_count": null,
   "metadata": {
    "collapsed": false
   },
   "outputs": [],
   "source": [
    "results_df_basic_ex[\"acc\"] = (\n",
    "    -results_df_basic_ex_og[\"acc\"].values + results_df_basic_ex[\"acc\"].values\n",
    ")\n",
    "results_df_basic_ex[\"auc\"] = (\n",
    "    -results_df_basic_ex_og[\"auc\"].values + results_df_basic_ex[\"auc\"].values\n",
    ")"
   ]
  },
  {
   "cell_type": "markdown",
   "metadata": {
    "collapsed": false
   },
   "source": []
  },
  {
   "cell_type": "markdown",
   "metadata": {
    "collapsed": false,
    "pycharm": {
     "name": "#%% md\n"
    }
   },
   "source": [
    "### Qualitative Analysis: Plot 2"
   ]
  },
  {
   "cell_type": "code",
   "execution_count": null,
   "metadata": {
    "collapsed": false,
    "execution": {
     "iopub.execute_input": "2025-05-07T07:04:38.767776Z",
     "iopub.status.busy": "2025-05-07T07:04:38.767597Z",
     "iopub.status.idle": "2025-05-07T07:04:51.889750Z",
     "shell.execute_reply": "2025-05-07T07:04:51.889117Z"
    }
   },
   "outputs": [],
   "source": [
    "grid = fv_2d_grid_step_vs_model(results_df_by_step_basic, nvis)\n",
    "plt.subplots_adjust(hspace=0.1, wspace=0.0)\n",
    "plt.savefig(f\"{save_path}/plot_2.png\")\n",
    "plt.show()"
   ]
  },
  {
   "cell_type": "markdown",
   "metadata": {
    "collapsed": false,
    "pycharm": {
     "name": "#%% md\n"
    }
   },
   "source": [
    "### Qualitative Analysis: Plot 3"
   ]
  },
  {
   "cell_type": "code",
   "execution_count": null,
   "metadata": {
    "collapsed": false,
    "execution": {
     "iopub.execute_input": "2025-05-07T07:04:51.898685Z",
     "iopub.status.busy": "2025-05-07T07:04:51.898493Z",
     "iopub.status.idle": "2025-05-07T07:14:59.347865Z",
     "shell.execute_reply": "2025-05-07T07:14:59.347438Z"
    },
    "pycharm": {
     "name": "#%%\n"
    }
   },
   "outputs": [],
   "source": [
    "df = pd.DataFrame()\n",
    "\n",
    "if os.path.exists(f\"{save_path}/results_neurons.pkl\"):\n",
    "    df_neuron = pd.read_pickle(f\"{save_path}/results_neurons.pkl\")\n",
    "else:\n",
    "    for neuron in range(10):\n",
    "        df_neuron = collect_fv_data(\n",
    "            models=models,\n",
    "            fv_kwargs=fv_kwargs,\n",
    "            eval_fv_tuples=eval_fv_tuples,\n",
    "            noise_gen_class=noise_ds_type,\n",
    "            image_dims=image_dims,\n",
    "            normalize=normalize,\n",
    "            denormalize=denormalize,\n",
    "            resize_transforms=resize_transforms,\n",
    "            n_channels=n_channels,\n",
    "            layer_str=layer_str,\n",
    "            target_neuron=neuron,\n",
    "            target_act_fn=target_act_fn,\n",
    "            n_fv_obs=1,\n",
    "            device=device,\n",
    "        )\n",
    "        df_neuron = pd.concat([df, df_neuron], ignore_index=True)\n",
    "    df_neuron.to_pickle(f\"{save_path}/results_neurons.pkl\")"
   ]
  },
  {
   "cell_type": "markdown",
   "metadata": {
    "collapsed": false
   },
   "source": [
    "# LateX Table"
   ]
  },
  {
   "cell_type": "code",
   "execution_count": null,
   "metadata": {
    "collapsed": false,
    "execution": {
     "iopub.execute_input": "2025-05-07T07:14:59.351807Z",
     "iopub.status.busy": "2025-05-07T07:14:59.351354Z",
     "iopub.status.idle": "2025-05-07T08:02:42.948825Z",
     "shell.execute_reply": "2025-05-07T08:02:42.948356Z"
    }
   },
   "outputs": [],
   "source": [
    "if os.path.exists(f\"{save_path}/results_df_basic.pkl\"):\n",
    "    results_df_basic = pd.read_pickle(f\"{save_path}/results_df_basic.pkl\")\n",
    "else:\n",
    "    results_df_basic = collect_fv_data(\n",
    "        models=models,\n",
    "        fv_kwargs=fv_kwargs,\n",
    "        eval_fv_tuples=eval_fv_tuples,\n",
    "        noise_gen_class=noise_ds_type,\n",
    "        image_dims=image_dims,\n",
    "        normalize=normalize,\n",
    "        denormalize=denormalize,\n",
    "        resize_transforms=resize_transforms,\n",
    "        n_channels=n_channels,\n",
    "        layer_str=layer_str,\n",
    "        target_neuron=target_neuron,\n",
    "        dist_funcs=dist_funcs,\n",
    "        n_fv_obs=n_fv_obs,\n",
    "        target_act_fn=target_act_fn,\n",
    "        device=device,\n",
    "    )\n",
    "    results_df_basic.to_pickle(f\"{save_path}/results_df_basic.pkl\")"
   ]
  },
  {
   "cell_type": "code",
   "execution_count": null,
   "metadata": {
    "collapsed": false,
    "execution": {
     "iopub.execute_input": "2025-05-07T08:02:42.951315Z",
     "iopub.status.busy": "2025-05-07T08:02:42.950804Z",
     "iopub.status.idle": "2025-05-07T08:02:42.954628Z",
     "shell.execute_reply": "2025-05-07T08:02:42.954299Z"
    }
   },
   "outputs": [],
   "source": [
    "results_df_basic[\"key\"] = results_df_basic[\"model\"].apply(\n",
    "    lambda x: x.split(\"_\")[-1][:1]\n",
    ")\n",
    "results_df_basic[\"width\"] = results_df_basic[\"model\"].apply(\n",
    "    lambda x: x.split(\"_\")[-1][1:]\n",
    ")"
   ]
  },
  {
   "cell_type": "code",
   "execution_count": null,
   "metadata": {
    "collapsed": false,
    "execution": {
     "iopub.execute_input": "2025-05-07T08:02:42.956256Z",
     "iopub.status.busy": "2025-05-07T08:02:42.956041Z",
     "iopub.status.idle": "2025-05-07T08:02:42.958650Z",
     "shell.execute_reply": "2025-05-07T08:02:42.958337Z"
    }
   },
   "outputs": [],
   "source": [
    "eval_table = results_df_basic.copy()\n",
    "eval_table = eval_table[[r\"LPIPS $\\downarrow$\", \"key\", \"width\", \"acc\", \"auc\"]]\n",
    "pd.options.display.float_format = \"{:,.3f}\".format\n",
    "# eval_table = eval_table.round(2).astype(str)"
   ]
  },
  {
   "cell_type": "code",
   "execution_count": null,
   "metadata": {
    "collapsed": false
   },
   "outputs": [],
   "source": [
    "eval_table.columns"
   ]
  },
  {
   "cell_type": "code",
   "execution_count": null,
   "metadata": {
    "collapsed": false,
    "execution": {
     "iopub.execute_input": "2025-05-07T08:02:42.960214Z",
     "iopub.status.busy": "2025-05-07T08:02:42.959971Z",
     "iopub.status.idle": "2025-05-07T08:02:42.965167Z",
     "shell.execute_reply": "2025-05-07T08:02:42.964859Z"
    }
   },
   "outputs": [],
   "source": [
    "df1 = (\n",
    "    pd.pivot_table(\n",
    "        eval_table,\n",
    "        values=r\"LPIPS $\\downarrow$\",\n",
    "        index=[\"key\"],\n",
    "        columns=[\"width\"],\n",
    "        aggfunc=\"mean\",\n",
    "        fill_value=0,\n",
    "    ).round(2)\n",
    ").applymap(\"{:.2f}\".format)"
   ]
  },
  {
   "cell_type": "code",
   "execution_count": null,
   "metadata": {
    "collapsed": false,
    "execution": {
     "iopub.execute_input": "2025-05-07T08:02:42.966682Z",
     "iopub.status.busy": "2025-05-07T08:02:42.966436Z",
     "iopub.status.idle": "2025-05-07T08:02:42.970763Z",
     "shell.execute_reply": "2025-05-07T08:02:42.970454Z"
    }
   },
   "outputs": [],
   "source": [
    "df2 = (\n",
    "    pd.pivot_table(\n",
    "        eval_table,\n",
    "        values=r\"LPIPS $\\downarrow$\",\n",
    "        index=[\"key\"],\n",
    "        columns=[\"width\"],\n",
    "        aggfunc=\"std\",\n",
    "        fill_value=0,\n",
    "    ).round(2)\n",
    ").applymap(\"{:.2f}\".format)"
   ]
  },
  {
   "cell_type": "code",
   "execution_count": null,
   "metadata": {
    "collapsed": false
   },
   "outputs": [],
   "source": [
    "df3 = (\n",
    "    pd.pivot_table(\n",
    "        results_df_basic_ex,\n",
    "        values=r\"acc\",\n",
    "        index=[\"key\"],\n",
    "        columns=[\"width\"],\n",
    "        aggfunc=\"mean\",\n",
    "        fill_value=0,\n",
    "    ).round(2)\n",
    ").applymap(\"{:.2f}\".format)"
   ]
  },
  {
   "cell_type": "code",
   "execution_count": null,
   "metadata": {
    "collapsed": false,
    "execution": {
     "iopub.execute_input": "2025-05-07T08:02:42.972156Z",
     "iopub.status.busy": "2025-05-07T08:02:42.972060Z",
     "iopub.status.idle": "2025-05-07T08:02:42.974169Z",
     "shell.execute_reply": "2025-05-07T08:02:42.973861Z"
    }
   },
   "outputs": [],
   "source": [
    "mvgg_eval_table = r\"$\" + df1 + r\"\\pm\" + df2 + r\"$\" + \" $|$ \" + df3"
   ]
  },
  {
   "cell_type": "code",
   "execution_count": null,
   "metadata": {
    "collapsed": false,
    "execution": {
     "iopub.execute_input": "2025-05-07T08:02:42.975484Z",
     "iopub.status.busy": "2025-05-07T08:02:42.975389Z",
     "iopub.status.idle": "2025-05-07T08:02:42.977444Z",
     "shell.execute_reply": "2025-05-07T08:02:42.977146Z"
    }
   },
   "outputs": [],
   "source": [
    "mvgg_eval_table = mvgg_eval_table[[\"8\", \"16\", \"32\", \"64\"]]"
   ]
  },
  {
   "cell_type": "code",
   "execution_count": null,
   "metadata": {
    "collapsed": false,
    "execution": {
     "iopub.execute_input": "2025-05-07T08:02:42.978937Z",
     "iopub.status.busy": "2025-05-07T08:02:42.978683Z",
     "iopub.status.idle": "2025-05-07T08:02:43.003045Z",
     "shell.execute_reply": "2025-05-07T08:02:43.002712Z"
    }
   },
   "outputs": [],
   "source": [
    "print(mvgg_eval_table.to_latex(escape=False, float_format=\"{:.2f}\".format))"
   ]
  },
  {
   "cell_type": "code",
   "execution_count": null,
   "metadata": {
    "collapsed": false
   },
   "outputs": [],
   "source": [
    "df4 = (\n",
    "    pd.pivot_table(\n",
    "        results_df_basic_ex,\n",
    "        values=r\"auc\",\n",
    "        index=[\"key\"],\n",
    "        columns=[\"width\"],\n",
    "        aggfunc=\"mean\",\n",
    "        fill_value=0,\n",
    "    )\n",
    "    .round(3)\n",
    "    .astype(str)\n",
    ")"
   ]
  },
  {
   "cell_type": "code",
   "execution_count": null,
   "metadata": {
    "collapsed": false
   },
   "outputs": [],
   "source": [
    "df4 = df4[[\"8\", \"16\", \"32\", \"64\"]]\n",
    "print(df4.to_latex(escape=False, float_format=\"{:.3f}\".format))"
   ]
  },
  {
   "cell_type": "code",
   "execution_count": null,
   "metadata": {
    "collapsed": false
   },
   "outputs": [],
   "source": [
    "df4"
   ]
  },
  {
   "cell_type": "code",
   "execution_count": null,
   "metadata": {
    "collapsed": false
   },
   "outputs": [],
   "source": []
  }
 ],
 "metadata": {
  "kernelspec": {
   "display_name": "Python 3",
   "language": "python",
   "name": "python3"
  },
  "language_info": {
   "codemirror_mode": {
    "name": "ipython",
    "version": 3
   },
   "file_extension": ".py",
   "mimetype": "text/x-python",
   "name": "python",
   "nbconvert_exporter": "python",
   "pygments_lexer": "ipython3",
   "version": "3.11.5"
  }
 },
 "nbformat": 4,
 "nbformat_minor": 0
}
